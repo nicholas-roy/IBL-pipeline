{
 "cells": [
  {
   "cell_type": "code",
   "execution_count": 3,
   "metadata": {},
   "outputs": [],
   "source": [
    "import datajoint as dj\n",
    "from ibl_pipeline import reference, subject, action, acquisition, data, behavior\n",
    "from ibl_pipeline.analyses import behavior as behavior_analyses\n",
    "import list_tables"
   ]
  },
  {
   "cell_type": "markdown",
   "metadata": {},
   "source": [
    "## Diagram"
   ]
  },
  {
   "cell_type": "code",
   "execution_count": null,
   "metadata": {},
   "outputs": [],
   "source": [
    "dj.ERD(subject.schema) + dj.Diagram(reference.schema) + \\\n",
    "dj.Diagram(action.schema) + dj.Diagram(acquisition.schema) + dj.Diagram(data.schema) + \\\n",
    "dj.Diagram(behavior.schema) + dj.Diagram(behavior_analyses.schema)"
   ]
  },
  {
   "cell_type": "markdown",
   "metadata": {},
   "source": [
    "## List tables of a schema"
   ]
  },
  {
   "cell_type": "code",
   "execution_count": 9,
   "metadata": {},
   "outputs": [
    {
     "name": "stdout",
     "output_type": "stream",
     "text": [
      "Allele\n",
      "AlleleSequence\n",
      "BreedingPair\n",
      "Caging\n",
      "Death\n",
      "GenotypeTest\n",
      "Implant\n",
      "Line\n",
      "LineAllele\n",
      "Litter\n",
      "LitterSubject\n",
      "Sequence\n",
      "Source\n",
      "Species\n",
      "Strain\n",
      "Subject\n",
      "SubjectLab\n",
      "SubjectProject\n",
      "SubjectUser\n",
      "UserHistory\n",
      "Weaning\n",
      "Zygosity\n"
     ]
    }
   ],
   "source": [
    "list_tables.list_tables(subject)"
   ]
  },
  {
   "cell_type": "markdown",
   "metadata": {},
   "source": [
    "## Check table definition"
   ]
  },
  {
   "cell_type": "code",
   "execution_count": 11,
   "metadata": {},
   "outputs": [
    {
     "name": "stdout",
     "output_type": "stream",
     "text": [
      "subject_uuid         : uuid                         \n",
      "---\n",
      "subject_nickname     : varchar(255)                 # nickname\n",
      "sex                  : enum('M','F','U')            # sex\n",
      "subject_birth_date=null : date                         # birth date\n",
      "ear_mark=null        : varchar(255)                 # ear mark\n",
      "-> [nullable] subject.Line.proj(subject_line=\"line_name\")\n",
      "-> [nullable] subject.Source.proj(subject_source=\"source_name\")\n",
      "protocol_number      : tinyint                      # protocol number\n",
      "subject_description=null : varchar(1024)                \n",
      "\n"
     ]
    },
    {
     "data": {
      "text/plain": [
       "'subject_uuid         : uuid                         \\n---\\nsubject_nickname     : varchar(255)                 # nickname\\nsex                  : enum(\\'M\\',\\'F\\',\\'U\\')            # sex\\nsubject_birth_date=null : date                         # birth date\\near_mark=null        : varchar(255)                 # ear mark\\n-> [nullable] subject.Line.proj(subject_line=\"line_name\")\\n-> [nullable] subject.Source.proj(subject_source=\"source_name\")\\nprotocol_number      : tinyint                      # protocol number\\nsubject_description=null : varchar(1024)                \\n'"
      ]
     },
     "execution_count": 11,
     "metadata": {},
     "output_type": "execute_result"
    }
   ],
   "source": [
    "subject.Subject.describe()"
   ]
  }
 ],
 "metadata": {
  "kernelspec": {
   "display_name": "Python 3",
   "language": "python",
   "name": "python3"
  },
  "language_info": {
   "codemirror_mode": {
    "name": "ipython",
    "version": 3
   },
   "file_extension": ".py",
   "mimetype": "text/x-python",
   "name": "python",
   "nbconvert_exporter": "python",
   "pygments_lexer": "ipython3",
   "version": "3.6.6"
  }
 },
 "nbformat": 4,
 "nbformat_minor": 2
}
