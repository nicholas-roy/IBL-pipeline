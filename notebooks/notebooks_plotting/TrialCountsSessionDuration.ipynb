{
 "cells": [
  {
   "cell_type": "code",
   "execution_count": 1,
   "metadata": {},
   "outputs": [
    {
     "name": "stdout",
     "output_type": "stream",
     "text": [
      "Connecting shan@datajoint.internationalbrainlab.org:3306\n"
     ]
    },
    {
     "data": {
      "text/html": [
       "        <script type=\"text/javascript\">\n",
       "        window.PlotlyConfig = {MathJaxConfig: 'local'};\n",
       "        if (window.MathJax) {MathJax.Hub.Config({SVG: {font: \"STIX-Web\"}});}\n",
       "        if (typeof require !== 'undefined') {\n",
       "        require.undef(\"plotly\");\n",
       "        requirejs.config({\n",
       "            paths: {\n",
       "                'plotly': ['https://cdn.plot.ly/plotly-latest.min']\n",
       "            }\n",
       "        });\n",
       "        require(['plotly'], function(Plotly) {\n",
       "            window._Plotly = Plotly;\n",
       "        });\n",
       "        }\n",
       "        </script>\n",
       "        "
      ]
     },
     "metadata": {},
     "output_type": "display_data"
    }
   ],
   "source": [
    "from ibl_pipeline.analyses import behavior as behavior_analyses\n",
    "from ibl_pipeline import behavior\n",
    "from ibl_pipeline import subject, acquisition\n",
    "from ibl_pipeline.utils import psychofit as psy\n",
    "import plotting_utils as putils\n",
    "from uuid import UUID\n",
    "import numpy as np\n",
    "import datetime\n",
    "import datajoint as dj\n",
    "import json\n",
    "import seaborn as sns\n",
    "import pandas as pd\n",
    "import plotly\n",
    "import plotly.graph_objs as go\n",
    "import statsmodels.stats.proportion as smp\n",
    "plotly.offline.init_notebook_mode(connected=True)"
   ]
  },
  {
   "cell_type": "code",
   "execution_count": 12,
   "metadata": {},
   "outputs": [],
   "source": [
    "subj = subject.Subject & {'subject_nickname': 'CSHL_007'}\n",
    "# get trial counts and session length to date\n",
    "session_info = (behavior.TrialSet * acquisition.Session & subj).proj(\n",
    "    'n_trials', session_date='DATE(session_start_time)',\n",
    "    session_duration='TIMESTAMPDIFF(MINUTE, session_start_time, session_end_time)').fetch(as_dict=True)\n",
    "session_info = pd.DataFrame(session_info)\n",
    "session_info = session_info.where((pd.notnull(session_info)), None)\n",
    "\n",
    "n_trials = session_info['n_trials'].tolist()\n",
    "max_trials = max(n_trials)\n",
    "yrange = [0, max_trials+50]\n",
    "\n",
    "# get the first date when animal became \"trained\" and \"ready for ephys\"\n",
    "status = putils.get_status(subj)\n",
    "# get date range and mondays\n",
    "d = putils.get_date_range(subj)"
   ]
  },
  {
   "cell_type": "code",
   "execution_count": 10,
   "metadata": {},
   "outputs": [
    {
     "data": {
      "application/vnd.plotly.v1+json": {
       "config": {
        "linkText": "Export to plot.ly",
        "plotlyServerURL": "https://plot.ly",
        "responsive": true,
        "showLink": false
       },
       "data": [
        {
         "marker": {
          "color": "black",
          "line": {
           "color": "white",
           "width": 1
          },
          "size": 6
         },
         "mode": "markers+lines",
         "name": "trial counts",
         "showlegend": false,
         "type": "scatter",
         "uid": "5c7bd6ab-eb2b-4633-a01d-ee47523f26df",
         "x": [
          "2019-03-04",
          "2019-03-05",
          "2019-03-06",
          "2019-03-11",
          "2019-03-12",
          "2019-03-13",
          "2019-03-14",
          "2019-03-15",
          "2019-03-18",
          "2019-03-19",
          "2019-03-20",
          "2019-03-21",
          "2019-03-22",
          "2019-03-25",
          "2019-03-26",
          "2019-03-26",
          "2019-03-27",
          "2019-03-28",
          "2019-03-29",
          "2019-04-01",
          "2019-04-02",
          "2019-04-03",
          "2019-04-04",
          "2019-04-05",
          "2019-04-08",
          "2019-04-09",
          "2019-04-10",
          "2019-04-11",
          "2019-04-12",
          "2019-04-15",
          "2019-04-16",
          "2019-04-17",
          "2019-04-18",
          "2019-04-19",
          "2019-04-22",
          "2019-04-23",
          "2019-04-24",
          "2019-04-25",
          "2019-04-29",
          "2019-04-30",
          "2019-05-01",
          "2019-05-02",
          "2019-05-03",
          "2019-05-06",
          "2019-05-07",
          "2019-05-09",
          "2019-05-10",
          "2019-05-13",
          "2019-05-14",
          "2019-05-15",
          "2019-05-16",
          "2019-05-17",
          "2019-05-20",
          "2019-05-21",
          "2019-05-22",
          "2019-05-23",
          "2019-05-24",
          "2019-05-28",
          "2019-05-29",
          "2019-05-30",
          "2019-06-03",
          "2019-06-04",
          "2019-06-05",
          "2019-06-06"
         ],
         "y": [
          245,
          314,
          322,
          382,
          726,
          587,
          431,
          276,
          433,
          420,
          247,
          440,
          384,
          402,
          56,
          285,
          292,
          206,
          409,
          447,
          413,
          425,
          312,
          373,
          402,
          503,
          346,
          316,
          343,
          381,
          331,
          300,
          296,
          333,
          529,
          450,
          403,
          377,
          464,
          324,
          240,
          418,
          439,
          407,
          372,
          411,
          422,
          421,
          422,
          355,
          410,
          378,
          373,
          467,
          323,
          715,
          310,
          404,
          412,
          404,
          492,
          435,
          438,
          403
         ],
         "yaxis": "y"
        },
        {
         "marker": {
          "color": "red",
          "line": {
           "color": "white",
           "width": 1
          },
          "size": 6
         },
         "mode": "markers+lines",
         "name": "session duration",
         "showlegend": false,
         "type": "scatter",
         "uid": "594bbc7c-3582-4070-b3c1-4d8d1eaec07a",
         "x": [
          "2019-03-04",
          "2019-03-05",
          "2019-03-06",
          "2019-03-11",
          "2019-03-12",
          "2019-03-13",
          "2019-03-14",
          "2019-03-15",
          "2019-03-18",
          "2019-03-19",
          "2019-03-20",
          "2019-03-21",
          "2019-03-22",
          "2019-03-25",
          "2019-03-26",
          "2019-03-26",
          "2019-03-27",
          "2019-03-28",
          "2019-03-29",
          "2019-04-01",
          "2019-04-02",
          "2019-04-03",
          "2019-04-04",
          "2019-04-05",
          "2019-04-08",
          "2019-04-09",
          "2019-04-10",
          "2019-04-11",
          "2019-04-12",
          "2019-04-15",
          "2019-04-16",
          "2019-04-17",
          "2019-04-18",
          "2019-04-19",
          "2019-04-22",
          "2019-04-23",
          "2019-04-24",
          "2019-04-25",
          "2019-04-29",
          "2019-04-30",
          "2019-05-01",
          "2019-05-02",
          "2019-05-03",
          "2019-05-06",
          "2019-05-07",
          "2019-05-09",
          "2019-05-10",
          "2019-05-13",
          "2019-05-14",
          "2019-05-15",
          "2019-05-16",
          "2019-05-17",
          "2019-05-20",
          "2019-05-21",
          "2019-05-22",
          "2019-05-23",
          "2019-05-24",
          "2019-05-28",
          "2019-05-29",
          "2019-05-30",
          "2019-06-03",
          "2019-06-04",
          "2019-06-05",
          "2019-06-06"
         ],
         "y": [
          46,
          48,
          51,
          45,
          78,
          57,
          46,
          33,
          28,
          47,
          45,
          46,
          46,
          40,
          16,
          45,
          49,
          52,
          40,
          34,
          45,
          34,
          53,
          66,
          41,
          35,
          45,
          45,
          45,
          48,
          51,
          50,
          39,
          77,
          43,
          31,
          30,
          46,
          30,
          45,
          47,
          33,
          35,
          28,
          54,
          39,
          29,
          40,
          36,
          45,
          30,
          45,
          45,
          39,
          45,
          52,
          31,
          42,
          31,
          33,
          32,
          28,
          29,
          28
         ],
         "yaxis": "y2"
        },
        {
         "legendgroup": "monday",
         "line": {
          "color": "gray",
          "dash": "dot",
          "width": 0.5
         },
         "mode": "lines",
         "name": "Mondays",
         "showlegend": true,
         "type": "scatter",
         "uid": "c0a33292-cf78-4de0-9412-e29bf23562e3",
         "x": [
          "2019-02-18",
          "2019-02-18"
         ],
         "xaxis": "x",
         "y": [
          0,
          776
         ],
         "yaxis": "y"
        },
        {
         "legendgroup": "monday",
         "line": {
          "color": "gray",
          "dash": "dot",
          "width": 0.5
         },
         "mode": "lines",
         "name": "Mondays",
         "showlegend": false,
         "type": "scatter",
         "uid": "5f58ce4c-8258-4fab-9bd9-1cb068d24f99",
         "x": [
          "2019-02-25",
          "2019-02-25"
         ],
         "xaxis": "x",
         "y": [
          0,
          776
         ],
         "yaxis": "y"
        },
        {
         "legendgroup": "monday",
         "line": {
          "color": "gray",
          "dash": "dot",
          "width": 0.5
         },
         "mode": "lines",
         "name": "Mondays",
         "showlegend": false,
         "type": "scatter",
         "uid": "9ce51ac6-2568-470f-8e83-a04e1a91d316",
         "x": [
          "2019-03-04",
          "2019-03-04"
         ],
         "xaxis": "x",
         "y": [
          0,
          776
         ],
         "yaxis": "y"
        },
        {
         "legendgroup": "monday",
         "line": {
          "color": "gray",
          "dash": "dot",
          "width": 0.5
         },
         "mode": "lines",
         "name": "Mondays",
         "showlegend": false,
         "type": "scatter",
         "uid": "5351cb79-d62b-4664-8ed8-927d4d97be25",
         "x": [
          "2019-03-11",
          "2019-03-11"
         ],
         "xaxis": "x",
         "y": [
          0,
          776
         ],
         "yaxis": "y"
        },
        {
         "legendgroup": "monday",
         "line": {
          "color": "gray",
          "dash": "dot",
          "width": 0.5
         },
         "mode": "lines",
         "name": "Mondays",
         "showlegend": false,
         "type": "scatter",
         "uid": "da6e7af4-c922-4d1b-ab89-f929a0499d3c",
         "x": [
          "2019-03-18",
          "2019-03-18"
         ],
         "xaxis": "x",
         "y": [
          0,
          776
         ],
         "yaxis": "y"
        },
        {
         "legendgroup": "monday",
         "line": {
          "color": "gray",
          "dash": "dot",
          "width": 0.5
         },
         "mode": "lines",
         "name": "Mondays",
         "showlegend": false,
         "type": "scatter",
         "uid": "6dffaee9-3dc8-4a85-8175-32012b897f62",
         "x": [
          "2019-03-25",
          "2019-03-25"
         ],
         "xaxis": "x",
         "y": [
          0,
          776
         ],
         "yaxis": "y"
        },
        {
         "legendgroup": "monday",
         "line": {
          "color": "gray",
          "dash": "dot",
          "width": 0.5
         },
         "mode": "lines",
         "name": "Mondays",
         "showlegend": false,
         "type": "scatter",
         "uid": "dd998368-cb74-4c11-8c75-0fda3b48991c",
         "x": [
          "2019-04-01",
          "2019-04-01"
         ],
         "xaxis": "x",
         "y": [
          0,
          776
         ],
         "yaxis": "y"
        },
        {
         "legendgroup": "monday",
         "line": {
          "color": "gray",
          "dash": "dot",
          "width": 0.5
         },
         "mode": "lines",
         "name": "Mondays",
         "showlegend": false,
         "type": "scatter",
         "uid": "1e8f64af-83fd-4e93-8f38-bb71bd0f3bec",
         "x": [
          "2019-04-08",
          "2019-04-08"
         ],
         "xaxis": "x",
         "y": [
          0,
          776
         ],
         "yaxis": "y"
        },
        {
         "legendgroup": "monday",
         "line": {
          "color": "gray",
          "dash": "dot",
          "width": 0.5
         },
         "mode": "lines",
         "name": "Mondays",
         "showlegend": false,
         "type": "scatter",
         "uid": "5dc238d1-9428-4b0e-a767-a8d2001210de",
         "x": [
          "2019-04-15",
          "2019-04-15"
         ],
         "xaxis": "x",
         "y": [
          0,
          776
         ],
         "yaxis": "y"
        },
        {
         "legendgroup": "monday",
         "line": {
          "color": "gray",
          "dash": "dot",
          "width": 0.5
         },
         "mode": "lines",
         "name": "Mondays",
         "showlegend": false,
         "type": "scatter",
         "uid": "57af5fd9-f841-43d6-87a8-06d32a6f0aad",
         "x": [
          "2019-04-22",
          "2019-04-22"
         ],
         "xaxis": "x",
         "y": [
          0,
          776
         ],
         "yaxis": "y"
        },
        {
         "legendgroup": "monday",
         "line": {
          "color": "gray",
          "dash": "dot",
          "width": 0.5
         },
         "mode": "lines",
         "name": "Mondays",
         "showlegend": false,
         "type": "scatter",
         "uid": "6e2c262c-6e88-43ca-89f5-be5d807d368f",
         "x": [
          "2019-04-29",
          "2019-04-29"
         ],
         "xaxis": "x",
         "y": [
          0,
          776
         ],
         "yaxis": "y"
        },
        {
         "legendgroup": "monday",
         "line": {
          "color": "gray",
          "dash": "dot",
          "width": 0.5
         },
         "mode": "lines",
         "name": "Mondays",
         "showlegend": false,
         "type": "scatter",
         "uid": "dae72931-03a6-4f0f-94f0-e4d85979e6d7",
         "x": [
          "2019-05-06",
          "2019-05-06"
         ],
         "xaxis": "x",
         "y": [
          0,
          776
         ],
         "yaxis": "y"
        },
        {
         "legendgroup": "monday",
         "line": {
          "color": "gray",
          "dash": "dot",
          "width": 0.5
         },
         "mode": "lines",
         "name": "Mondays",
         "showlegend": false,
         "type": "scatter",
         "uid": "90785a40-b78f-42eb-aec9-5c8e2a803b73",
         "x": [
          "2019-05-13",
          "2019-05-13"
         ],
         "xaxis": "x",
         "y": [
          0,
          776
         ],
         "yaxis": "y"
        },
        {
         "legendgroup": "monday",
         "line": {
          "color": "gray",
          "dash": "dot",
          "width": 0.5
         },
         "mode": "lines",
         "name": "Mondays",
         "showlegend": false,
         "type": "scatter",
         "uid": "4beca0de-2b8d-4e8a-99fb-9c0c93be8419",
         "x": [
          "2019-05-20",
          "2019-05-20"
         ],
         "xaxis": "x",
         "y": [
          0,
          776
         ],
         "yaxis": "y"
        },
        {
         "legendgroup": "monday",
         "line": {
          "color": "gray",
          "dash": "dot",
          "width": 0.5
         },
         "mode": "lines",
         "name": "Mondays",
         "showlegend": false,
         "type": "scatter",
         "uid": "c7b54067-fea9-48e3-9b74-6dad514e5fac",
         "x": [
          "2019-05-27",
          "2019-05-27"
         ],
         "xaxis": "x",
         "y": [
          0,
          776
         ],
         "yaxis": "y"
        },
        {
         "legendgroup": "monday",
         "line": {
          "color": "gray",
          "dash": "dot",
          "width": 0.5
         },
         "mode": "lines",
         "name": "Mondays",
         "showlegend": false,
         "type": "scatter",
         "uid": "f851efc7-2e3e-4c50-9d81-6be98ed70477",
         "x": [
          "2019-06-03",
          "2019-06-03"
         ],
         "xaxis": "x",
         "y": [
          0,
          776
         ],
         "yaxis": "y"
        },
        {
         "legendgroup": "status",
         "marker": {
          "color": "orange"
         },
         "mode": "lines",
         "name": "first day got trained",
         "type": "scatter",
         "uid": "c7c2a53b-481a-435a-8ae4-af88abd408d6",
         "x": [
          "2019-03-19",
          "2019-03-19"
         ],
         "xaxis": "x",
         "y": [
          0,
          776
         ],
         "yaxis": "y"
        },
        {
         "legendgroup": "status",
         "marker": {
          "color": "forestgreen"
         },
         "mode": "lines",
         "name": "first day got biased",
         "type": "scatter",
         "uid": "c6320e3e-e86c-4afe-a2bf-63e37336e3ac",
         "x": [
          "2019-03-25",
          "2019-03-25"
         ],
         "xaxis": "x",
         "y": [
          0,
          776
         ],
         "yaxis": "y"
        }
       ],
       "layout": {
        "height": 400,
        "legend": {
         "orientation": "v",
         "x": 1.2,
         "y": 0.8
        },
        "title": {
         "text": "Trial counts and session duration",
         "x": 0.18,
         "y": 0.85
        },
        "width": 700,
        "xaxis": {
         "range": [
          "2019-02-16",
          "2019-06-09"
         ],
         "showgrid": false,
         "title": {
          "text": "Date"
         }
        },
        "yaxis": {
         "range": [
          0,
          776
         ],
         "title": {
          "text": "Trial counts"
         }
        },
        "yaxis2": {
         "color": "red",
         "overlaying": "y",
         "side": "right",
         "title": {
          "text": "Session duration (mins)"
         }
        }
       }
      },
      "text/html": [
       "<div>\n",
       "        \n",
       "        \n",
       "            <div id=\"76d2d24a-2ecb-42ea-84ca-4b47547536d8\" class=\"plotly-graph-div\" style=\"height:400px; width:700px;\"></div>\n",
       "            <script type=\"text/javascript\">\n",
       "                require([\"plotly\"], function(Plotly) {\n",
       "                    window.PLOTLYENV=window.PLOTLYENV || {};\n",
       "                    window.PLOTLYENV.BASE_URL='https://plot.ly';\n",
       "                    \n",
       "                if (document.getElementById(\"76d2d24a-2ecb-42ea-84ca-4b47547536d8\")) {\n",
       "                    Plotly.newPlot(\n",
       "                        '76d2d24a-2ecb-42ea-84ca-4b47547536d8',\n",
       "                        [{\"marker\": {\"color\": \"black\", \"line\": {\"color\": \"white\", \"width\": 1}, \"size\": 6}, \"mode\": \"markers+lines\", \"name\": \"trial counts\", \"showlegend\": false, \"type\": \"scatter\", \"uid\": \"bde2cc67-88d8-40ea-8e6f-70e40bdf0a80\", \"x\": [\"2019-03-04\", \"2019-03-05\", \"2019-03-06\", \"2019-03-11\", \"2019-03-12\", \"2019-03-13\", \"2019-03-14\", \"2019-03-15\", \"2019-03-18\", \"2019-03-19\", \"2019-03-20\", \"2019-03-21\", \"2019-03-22\", \"2019-03-25\", \"2019-03-26\", \"2019-03-26\", \"2019-03-27\", \"2019-03-28\", \"2019-03-29\", \"2019-04-01\", \"2019-04-02\", \"2019-04-03\", \"2019-04-04\", \"2019-04-05\", \"2019-04-08\", \"2019-04-09\", \"2019-04-10\", \"2019-04-11\", \"2019-04-12\", \"2019-04-15\", \"2019-04-16\", \"2019-04-17\", \"2019-04-18\", \"2019-04-19\", \"2019-04-22\", \"2019-04-23\", \"2019-04-24\", \"2019-04-25\", \"2019-04-29\", \"2019-04-30\", \"2019-05-01\", \"2019-05-02\", \"2019-05-03\", \"2019-05-06\", \"2019-05-07\", \"2019-05-09\", \"2019-05-10\", \"2019-05-13\", \"2019-05-14\", \"2019-05-15\", \"2019-05-16\", \"2019-05-17\", \"2019-05-20\", \"2019-05-21\", \"2019-05-22\", \"2019-05-23\", \"2019-05-24\", \"2019-05-28\", \"2019-05-29\", \"2019-05-30\", \"2019-06-03\", \"2019-06-04\", \"2019-06-05\", \"2019-06-06\"], \"y\": [245, 314, 322, 382, 726, 587, 431, 276, 433, 420, 247, 440, 384, 402, 56, 285, 292, 206, 409, 447, 413, 425, 312, 373, 402, 503, 346, 316, 343, 381, 331, 300, 296, 333, 529, 450, 403, 377, 464, 324, 240, 418, 439, 407, 372, 411, 422, 421, 422, 355, 410, 378, 373, 467, 323, 715, 310, 404, 412, 404, 492, 435, 438, 403], \"yaxis\": \"y\"}, {\"marker\": {\"color\": \"red\", \"line\": {\"color\": \"white\", \"width\": 1}, \"size\": 6}, \"mode\": \"markers+lines\", \"name\": \"session duration\", \"showlegend\": false, \"type\": \"scatter\", \"uid\": \"07b65237-d934-4d28-8831-317d3cafbba1\", \"x\": [\"2019-03-04\", \"2019-03-05\", \"2019-03-06\", \"2019-03-11\", \"2019-03-12\", \"2019-03-13\", \"2019-03-14\", \"2019-03-15\", \"2019-03-18\", \"2019-03-19\", \"2019-03-20\", \"2019-03-21\", \"2019-03-22\", \"2019-03-25\", \"2019-03-26\", \"2019-03-26\", \"2019-03-27\", \"2019-03-28\", \"2019-03-29\", \"2019-04-01\", \"2019-04-02\", \"2019-04-03\", \"2019-04-04\", \"2019-04-05\", \"2019-04-08\", \"2019-04-09\", \"2019-04-10\", \"2019-04-11\", \"2019-04-12\", \"2019-04-15\", \"2019-04-16\", \"2019-04-17\", \"2019-04-18\", \"2019-04-19\", \"2019-04-22\", \"2019-04-23\", \"2019-04-24\", \"2019-04-25\", \"2019-04-29\", \"2019-04-30\", \"2019-05-01\", \"2019-05-02\", \"2019-05-03\", \"2019-05-06\", \"2019-05-07\", \"2019-05-09\", \"2019-05-10\", \"2019-05-13\", \"2019-05-14\", \"2019-05-15\", \"2019-05-16\", \"2019-05-17\", \"2019-05-20\", \"2019-05-21\", \"2019-05-22\", \"2019-05-23\", \"2019-05-24\", \"2019-05-28\", \"2019-05-29\", \"2019-05-30\", \"2019-06-03\", \"2019-06-04\", \"2019-06-05\", \"2019-06-06\"], \"y\": [46, 48, 51, 45, 78, 57, 46, 33, 28, 47, 45, 46, 46, 40, 16, 45, 49, 52, 40, 34, 45, 34, 53, 66, 41, 35, 45, 45, 45, 48, 51, 50, 39, 77, 43, 31, 30, 46, 30, 45, 47, 33, 35, 28, 54, 39, 29, 40, 36, 45, 30, 45, 45, 39, 45, 52, 31, 42, 31, 33, 32, 28, 29, 28], \"yaxis\": \"y2\"}, {\"legendgroup\": \"monday\", \"line\": {\"color\": \"gray\", \"dash\": \"dot\", \"width\": 0.5}, \"mode\": \"lines\", \"name\": \"Mondays\", \"showlegend\": true, \"type\": \"scatter\", \"uid\": \"2bc82db8-4219-4829-bf5e-dabe7d3cbd39\", \"x\": [\"2019-02-18\", \"2019-02-18\"], \"xaxis\": \"x\", \"y\": [0, 776], \"yaxis\": \"y\"}, {\"legendgroup\": \"monday\", \"line\": {\"color\": \"gray\", \"dash\": \"dot\", \"width\": 0.5}, \"mode\": \"lines\", \"name\": \"Mondays\", \"showlegend\": false, \"type\": \"scatter\", \"uid\": \"0ed9b9f5-5244-4747-996b-09cf80ad8585\", \"x\": [\"2019-02-25\", \"2019-02-25\"], \"xaxis\": \"x\", \"y\": [0, 776], \"yaxis\": \"y\"}, {\"legendgroup\": \"monday\", \"line\": {\"color\": \"gray\", \"dash\": \"dot\", \"width\": 0.5}, \"mode\": \"lines\", \"name\": \"Mondays\", \"showlegend\": false, \"type\": \"scatter\", \"uid\": \"57a0d077-091e-43e0-b2d9-b63026edd772\", \"x\": [\"2019-03-04\", \"2019-03-04\"], \"xaxis\": \"x\", \"y\": [0, 776], \"yaxis\": \"y\"}, {\"legendgroup\": \"monday\", \"line\": {\"color\": \"gray\", \"dash\": \"dot\", \"width\": 0.5}, \"mode\": \"lines\", \"name\": \"Mondays\", \"showlegend\": false, \"type\": \"scatter\", \"uid\": \"8a78b190-ff06-4ce9-81d0-038ba06dfebc\", \"x\": [\"2019-03-11\", \"2019-03-11\"], \"xaxis\": \"x\", \"y\": [0, 776], \"yaxis\": \"y\"}, {\"legendgroup\": \"monday\", \"line\": {\"color\": \"gray\", \"dash\": \"dot\", \"width\": 0.5}, \"mode\": \"lines\", \"name\": \"Mondays\", \"showlegend\": false, \"type\": \"scatter\", \"uid\": \"75c76f19-aea3-4239-9223-c2f2084a5805\", \"x\": [\"2019-03-18\", \"2019-03-18\"], \"xaxis\": \"x\", \"y\": [0, 776], \"yaxis\": \"y\"}, {\"legendgroup\": \"monday\", \"line\": {\"color\": \"gray\", \"dash\": \"dot\", \"width\": 0.5}, \"mode\": \"lines\", \"name\": \"Mondays\", \"showlegend\": false, \"type\": \"scatter\", \"uid\": \"acbfbe99-ca5d-4094-85cb-fe351d2bb59b\", \"x\": [\"2019-03-25\", \"2019-03-25\"], \"xaxis\": \"x\", \"y\": [0, 776], \"yaxis\": \"y\"}, {\"legendgroup\": \"monday\", \"line\": {\"color\": \"gray\", \"dash\": \"dot\", \"width\": 0.5}, \"mode\": \"lines\", \"name\": \"Mondays\", \"showlegend\": false, \"type\": \"scatter\", \"uid\": \"f5350e7f-544d-45db-8d0f-6afcaa85edd3\", \"x\": [\"2019-04-01\", \"2019-04-01\"], \"xaxis\": \"x\", \"y\": [0, 776], \"yaxis\": \"y\"}, {\"legendgroup\": \"monday\", \"line\": {\"color\": \"gray\", \"dash\": \"dot\", \"width\": 0.5}, \"mode\": \"lines\", \"name\": \"Mondays\", \"showlegend\": false, \"type\": \"scatter\", \"uid\": \"ef0757a8-ea05-4ddc-af76-7538fe26537f\", \"x\": [\"2019-04-08\", \"2019-04-08\"], \"xaxis\": \"x\", \"y\": [0, 776], \"yaxis\": \"y\"}, {\"legendgroup\": \"monday\", \"line\": {\"color\": \"gray\", \"dash\": \"dot\", \"width\": 0.5}, \"mode\": \"lines\", \"name\": \"Mondays\", \"showlegend\": false, \"type\": \"scatter\", \"uid\": \"d4c6e337-9af1-435f-aeda-d5ee3397c8fb\", \"x\": [\"2019-04-15\", \"2019-04-15\"], \"xaxis\": \"x\", \"y\": [0, 776], \"yaxis\": \"y\"}, {\"legendgroup\": \"monday\", \"line\": {\"color\": \"gray\", \"dash\": \"dot\", \"width\": 0.5}, \"mode\": \"lines\", \"name\": \"Mondays\", \"showlegend\": false, \"type\": \"scatter\", \"uid\": \"9aa485b8-44c0-4527-99c5-1816f4517a35\", \"x\": [\"2019-04-22\", \"2019-04-22\"], \"xaxis\": \"x\", \"y\": [0, 776], \"yaxis\": \"y\"}, {\"legendgroup\": \"monday\", \"line\": {\"color\": \"gray\", \"dash\": \"dot\", \"width\": 0.5}, \"mode\": \"lines\", \"name\": \"Mondays\", \"showlegend\": false, \"type\": \"scatter\", \"uid\": \"a702bc6c-94c5-42f8-9cf8-fba7690d5f4b\", \"x\": [\"2019-04-29\", \"2019-04-29\"], \"xaxis\": \"x\", \"y\": [0, 776], \"yaxis\": \"y\"}, {\"legendgroup\": \"monday\", \"line\": {\"color\": \"gray\", \"dash\": \"dot\", \"width\": 0.5}, \"mode\": \"lines\", \"name\": \"Mondays\", \"showlegend\": false, \"type\": \"scatter\", \"uid\": \"2c9d98b9-0e76-497d-8126-ff489ad0bcfd\", \"x\": [\"2019-05-06\", \"2019-05-06\"], \"xaxis\": \"x\", \"y\": [0, 776], \"yaxis\": \"y\"}, {\"legendgroup\": \"monday\", \"line\": {\"color\": \"gray\", \"dash\": \"dot\", \"width\": 0.5}, \"mode\": \"lines\", \"name\": \"Mondays\", \"showlegend\": false, \"type\": \"scatter\", \"uid\": \"9f05b419-5d31-4495-854d-f98d4342ac9b\", \"x\": [\"2019-05-13\", \"2019-05-13\"], \"xaxis\": \"x\", \"y\": [0, 776], \"yaxis\": \"y\"}, {\"legendgroup\": \"monday\", \"line\": {\"color\": \"gray\", \"dash\": \"dot\", \"width\": 0.5}, \"mode\": \"lines\", \"name\": \"Mondays\", \"showlegend\": false, \"type\": \"scatter\", \"uid\": \"e1201d53-5d9e-4ff9-a50d-4df59433ed50\", \"x\": [\"2019-05-20\", \"2019-05-20\"], \"xaxis\": \"x\", \"y\": [0, 776], \"yaxis\": \"y\"}, {\"legendgroup\": \"monday\", \"line\": {\"color\": \"gray\", \"dash\": \"dot\", \"width\": 0.5}, \"mode\": \"lines\", \"name\": \"Mondays\", \"showlegend\": false, \"type\": \"scatter\", \"uid\": \"a56d73db-bd7d-459e-8b45-7f2a705f244a\", \"x\": [\"2019-05-27\", \"2019-05-27\"], \"xaxis\": \"x\", \"y\": [0, 776], \"yaxis\": \"y\"}, {\"legendgroup\": \"monday\", \"line\": {\"color\": \"gray\", \"dash\": \"dot\", \"width\": 0.5}, \"mode\": \"lines\", \"name\": \"Mondays\", \"showlegend\": false, \"type\": \"scatter\", \"uid\": \"f1c14d44-1a01-4d93-aad6-2443f07d63e6\", \"x\": [\"2019-06-03\", \"2019-06-03\"], \"xaxis\": \"x\", \"y\": [0, 776], \"yaxis\": \"y\"}, {\"legendgroup\": \"status\", \"marker\": {\"color\": \"orange\"}, \"mode\": \"lines\", \"name\": \"first day got trained\", \"type\": \"scatter\", \"uid\": \"742e31d4-8175-42ea-86e8-3505693350a4\", \"x\": [\"2019-03-19\", \"2019-03-19\"], \"xaxis\": \"x\", \"y\": [0, 776], \"yaxis\": \"y\"}, {\"legendgroup\": \"status\", \"marker\": {\"color\": \"forestgreen\"}, \"mode\": \"lines\", \"name\": \"first day got biased\", \"type\": \"scatter\", \"uid\": \"ff97987d-571a-4e42-8b6b-8908d9632c64\", \"x\": [\"2019-03-25\", \"2019-03-25\"], \"xaxis\": \"x\", \"y\": [0, 776], \"yaxis\": \"y\"}],\n",
       "                        {\"height\": 400, \"legend\": {\"orientation\": \"v\", \"x\": 1.2, \"y\": 0.8}, \"title\": {\"text\": \"Trial counts and session duration\", \"x\": 0.18, \"y\": 0.85}, \"width\": 700, \"xaxis\": {\"range\": [\"2019-02-16\", \"2019-06-09\"], \"showgrid\": false, \"title\": {\"text\": \"Date\"}}, \"yaxis\": {\"range\": [0, 776], \"title\": {\"text\": \"Trial counts\"}}, \"yaxis2\": {\"color\": \"red\", \"overlaying\": \"y\", \"side\": \"right\", \"title\": {\"text\": \"Session duration (mins)\"}}},\n",
       "                        {\"showLink\": false, \"linkText\": \"Export to plot.ly\", \"plotlyServerURL\": \"https://plot.ly\", \"responsive\": true}\n",
       "                    ).then(function(){\n",
       "                            \n",
       "var gd = document.getElementById('76d2d24a-2ecb-42ea-84ca-4b47547536d8');\n",
       "var x = new MutationObserver(function (mutations, observer) {{\n",
       "        var display = window.getComputedStyle(gd).display;\n",
       "        if (!display || display === 'none') {{\n",
       "            console.log([gd, 'removed!']);\n",
       "            Plotly.purge(gd);\n",
       "            observer.disconnect();\n",
       "        }}\n",
       "}});\n",
       "\n",
       "// Listen for the removal of the full notebook cells\n",
       "var notebookContainer = gd.closest('#notebook-container');\n",
       "if (notebookContainer) {{\n",
       "    x.observe(notebookContainer, {childList: true});\n",
       "}}\n",
       "\n",
       "// Listen for the clearing of the current output cell\n",
       "var outputEl = gd.closest('.output');\n",
       "if (outputEl) {{\n",
       "    x.observe(outputEl, {childList: true});\n",
       "}}\n",
       "\n",
       "                        })\n",
       "                };\n",
       "                });\n",
       "            </script>\n",
       "        </div>"
      ]
     },
     "metadata": {},
     "output_type": "display_data"
    }
   ],
   "source": [
    "trial_counts = go.Scatter(\n",
    "    x=[t.strftime('%Y-%m-%d') for t in session_info['session_date'].tolist()],\n",
    "    y=session_info['n_trials'].tolist(),\n",
    "    mode='markers+lines',\n",
    "    marker=dict(\n",
    "        size=6,\n",
    "        color='black',\n",
    "        line=dict(\n",
    "            color='white',\n",
    "            width=1\n",
    "        )\n",
    "    ),\n",
    "    name='trial counts',\n",
    "    yaxis='y1',\n",
    "    showlegend=False\n",
    ")\n",
    "\n",
    "session_length = go.Scatter(\n",
    "    x=[t.strftime('%Y-%m-%d') for t in session_info['session_date'].tolist()],\n",
    "    y=session_info['session_duration'].tolist(),\n",
    "    mode='markers+lines',\n",
    "    marker=dict(\n",
    "        size=6,\n",
    "        color='red',\n",
    "        line=dict(\n",
    "            color='white',\n",
    "            width=1\n",
    "        )\n",
    "    ),\n",
    "    name='session duration',\n",
    "    yaxis='y2',\n",
    "    showlegend=False\n",
    ")\n",
    "\n",
    "data = [trial_counts, session_length]\n",
    "\n",
    "# add monday plots\n",
    "data = putils.create_monday_plot(data, yrange, d['mondays'])\n",
    "\n",
    "# add status plots\n",
    "data = putils.create_status_plot(data, yrange, status)\n",
    "\n",
    "layout = go.Layout(\n",
    "    yaxis=dict(\n",
    "        title='Trial counts',\n",
    "        range=yrange\n",
    "    ),\n",
    "    yaxis2=dict(\n",
    "        title='Session duration (mins)',\n",
    "        overlaying='y',\n",
    "        color='red',\n",
    "        side='right'\n",
    "    ),\n",
    "    xaxis=dict(\n",
    "        title='Date',\n",
    "        range=[d['first_date_str'], d['last_date_str']],\n",
    "        showgrid=False\n",
    "    ), \n",
    "    width=700,\n",
    "    height=400,\n",
    "    title=dict(\n",
    "        text='Trial counts and session duration',\n",
    "        x=0.18,\n",
    "        y=0.85\n",
    "    ),\n",
    "    legend=dict(\n",
    "        x=1.2, \n",
    "        y=0.8,\n",
    "        orientation='v'),\n",
    ")\n",
    "\n",
    "fig = go.Figure(data=data, layout=layout)\n",
    "plotly.offline.iplot(fig)"
   ]
  },
  {
   "cell_type": "code",
   "execution_count": 4,
   "metadata": {},
   "outputs": [],
   "source": [
    "f = open(\"trial_counts_session_duration.json\",\"w\")\n",
    "s = json.dumps(fig.to_plotly_json())\n",
    "f.write(s)\n",
    "f.close()"
   ]
  }
 ],
 "metadata": {
  "kernelspec": {
   "display_name": "Python 3",
   "language": "python",
   "name": "python3"
  },
  "language_info": {
   "codemirror_mode": {
    "name": "ipython",
    "version": 3
   },
   "file_extension": ".py",
   "mimetype": "text/x-python",
   "name": "python",
   "nbconvert_exporter": "python",
   "pygments_lexer": "ipython3",
   "version": "3.6.6"
  }
 },
 "nbformat": 4,
 "nbformat_minor": 2
}
