{
 "cells": [
  {
   "cell_type": "code",
   "execution_count": 24,
   "metadata": {},
   "outputs": [
    {
     "data": {
      "text/html": [
       "        <script type=\"text/javascript\">\n",
       "        window.PlotlyConfig = {MathJaxConfig: 'local'};\n",
       "        if (window.MathJax) {MathJax.Hub.Config({SVG: {font: \"STIX-Web\"}});}\n",
       "        if (typeof require !== 'undefined') {\n",
       "        require.undef(\"plotly\");\n",
       "        requirejs.config({\n",
       "            paths: {\n",
       "                'plotly': ['https://cdn.plot.ly/plotly-latest.min']\n",
       "            }\n",
       "        });\n",
       "        require(['plotly'], function(Plotly) {\n",
       "            window._Plotly = Plotly;\n",
       "        });\n",
       "        }\n",
       "        </script>\n",
       "        "
      ]
     },
     "metadata": {},
     "output_type": "display_data"
    }
   ],
   "source": [
    "from ibl_pipeline.analyses import behavior as behavior_analyses\n",
    "from ibl_pipeline import behavior as behavior\n",
    "from ibl_pipeline import subject, acquisition\n",
    "from ibl_pipeline.utils import psychofit as psy\n",
    "import plotting_utils as putils\n",
    "from uuid import UUID\n",
    "import numpy as np\n",
    "import datetime\n",
    "import datajoint as dj\n",
    "import json\n",
    "import seaborn as sns\n",
    "import pandas as pd\n",
    "import plotly\n",
    "import plotly.graph_objs as go\n",
    "import statsmodels.stats.proportion as smp\n",
    "plotly.offline.init_notebook_mode(connected=True)"
   ]
  },
  {
   "cell_type": "code",
   "execution_count": 33,
   "metadata": {},
   "outputs": [
    {
     "name": "stderr",
     "output_type": "stream",
     "text": [
      "/usr/local/lib/python3.6/dist-packages/datajoint/connection.py:151: UserWarning:\n",
      "\n",
      "Mysql server has gone away. Reconnecting to the server.\n",
      "\n"
     ]
    },
    {
     "data": {
      "application/vnd.plotly.v1+json": {
       "config": {
        "linkText": "Export to plot.ly",
        "plotlyServerURL": "https://plot.ly",
        "responsive": true,
        "showLink": false
       },
       "data": [
        {
         "marker": {
          "color": "rgba(0.133, 0.133, 0.133, 1.0)",
          "line": {
           "color": "white",
           "width": 1
          },
          "size": 6
         },
         "mode": "markers+lines",
         "name": "p_left = 0.5",
         "type": "scatter",
         "uid": "36e8ad0d-56d0-451c-894f-5dc918fe889b",
         "x": [
          -100,
          -25,
          -5.999999865889549,
          -1.9999999552965164,
          0,
          1.9999999552965164,
          5.999999865889549,
          25,
          100
         ],
         "y": [
          0.30415000000001413,
          0.28709999999999525,
          0.4508999999999901,
          0.614200000000011,
          0.4179499999999816,
          0.3319500000000013,
          0.5697000000000116,
          0.25039999999998486,
          0.2541999999999973
         ]
        },
        {
         "error_y": {
          "array": [
           0.04384999999999195,
           0.023000000000010346,
           0.008000000000009777,
           0.4321000000000481,
           0.10550000000000104,
           0.05535000000000423,
           0.05189999999998918,
           0.032399999999995543,
           0
          ],
          "arrayminus": [
           0.03585000000000349,
           0.03294999999998538,
           0.12579999999999814,
           0.2131000000000256,
           0.13974999999995497,
           0.05285000000000162,
           0.1945000000000121,
           0.019300000000015416,
           0.0341999999999949
          ],
          "color": "rgba(0.133, 0.133, 0.133, 0.3)",
          "type": "data",
          "visible": true
         },
         "marker": {
          "size": 6
         },
         "mode": "none",
         "name": "median with 68% CI",
         "type": "scatter",
         "uid": "4883e498-0f0e-4c68-a95f-fb644456e22a",
         "x": [
          -100,
          -25,
          -5.999999865889549,
          -1.9999999552965164,
          0,
          1.9999999552965164,
          5.999999865889549,
          25,
          100
         ],
         "y": [
          0.30415000000001413,
          0.28709999999999525,
          0.4508999999999901,
          0.614200000000011,
          0.4179499999999816,
          0.3319500000000013,
          0.5697000000000116,
          0.25039999999998486,
          0.2541999999999973
         ]
        },
        {
         "marker": {
          "color": "rgba(0.7634747047461135, 0.3348456555528834, 0.225892295531744, 1.0)",
          "line": {
           "color": "white",
           "width": 1
          },
          "size": 6
         },
         "mode": "markers+lines",
         "name": "p_left = 0.2",
         "type": "scatter",
         "uid": "9a8531fc-e72d-4e78-ab38-c3d5b317be46",
         "x": [
          -100,
          -25,
          -5.999999865889549,
          -1.9999999552965164,
          0,
          1.9999999552965164,
          5.999999865889549,
          25,
          100
         ],
         "y": [
          0.31929999999999836,
          0.3407999999999447,
          0.331299999999942,
          0.434599999999989,
          0.3734000000000606,
          0.42714999999998327,
          0.8816000000001623,
          0.23730000000000473,
          0.23440000000005057
         ]
        },
        {
         "error_y": {
          "array": [
           0.028999999999996362,
           0.009000000000014552,
           0.030700000000024374,
           0.016200000000083037,
           0.06889999999992824,
           0.143950000000018,
           0,
           0,
           0
          ],
          "arrayminus": [
           0.08935000000002447,
           0.04529999999999745,
           0.07779999999991105,
           0.04144999999996912,
           0.08950000000015734,
           0.14639999999997144,
           0.5720000000001164,
           0.018100000000004002,
           0.148900000000026
          ],
          "color": "rgba(0.7634747047461135, 0.3348456555528834, 0.225892295531744, 0.3)",
          "type": "data",
          "visible": true
         },
         "marker": {
          "size": 6
         },
         "mode": "none",
         "name": "median with 68% CI",
         "type": "scatter",
         "uid": "8d40e701-a2df-4011-aa21-a52a9fa379dd",
         "x": [
          -100,
          -25,
          -5.999999865889549,
          -1.9999999552965164,
          0,
          1.9999999552965164,
          5.999999865889549,
          25,
          100
         ],
         "y": [
          0.31929999999999836,
          0.3407999999999447,
          0.331299999999942,
          0.434599999999989,
          0.3734000000000606,
          0.42714999999998327,
          0.8816000000001623,
          0.23730000000000473,
          0.23440000000005057
         ]
        },
        {
         "marker": {
          "color": "rgba(0.24715576253545807, 0.49918708160096675, 0.5765599057376697, 1.0)",
          "line": {
           "color": "white",
           "width": 1
          },
          "size": 6
         },
         "mode": "markers+lines",
         "name": "p_left = 0.8",
         "type": "scatter",
         "uid": "2bacac11-473a-408f-8e7f-83137f15039c",
         "x": [
          -100,
          -25,
          -5.999999865889549,
          -1.9999999552965164,
          0,
          1.9999999552965164,
          5.999999865889549,
          25,
          100
         ],
         "y": [
          0.2609499999999798,
          0.31224999999994907,
          0.7545000000000073,
          0.245900000000006,
          0.3403999999999314,
          0.26310000000000855,
          0.3064999999999145,
          0.23050000000000637,
          0.21970000000004575
         ]
        },
        {
         "error_y": {
          "array": [
           0.006050000000016098,
           0.01140000000003738,
           0,
           0.030200000000036198,
           0.044750000000135515,
           0.011999999999943611,
           0.01160000000004402,
           0.010699999999928878,
           0.006199999999978445
          ],
          "arrayminus": [
           0.022449999999992087,
           0.03974999999991269,
           0.5290000000000532,
           0.03129999999998745,
           0.06349999999991951,
           0.02650000000005548,
           0.029499999999870852,
           0.016799999999989268,
           0.008300000000019736
          ],
          "color": "rgba(0.24715576253545807, 0.49918708160096675, 0.5765599057376697, 0.3)",
          "type": "data",
          "visible": true
         },
         "marker": {
          "size": 6
         },
         "mode": "none",
         "name": "median with 68% CI",
         "type": "scatter",
         "uid": "50c43c52-e82f-4237-b8fe-773cef34f1ea",
         "x": [
          -100,
          -25,
          -5.999999865889549,
          -1.9999999552965164,
          0,
          1.9999999552965164,
          5.999999865889549,
          25,
          100
         ],
         "y": [
          0.2609499999999798,
          0.31224999999994907,
          0.7545000000000073,
          0.245900000000006,
          0.3403999999999314,
          0.26310000000000855,
          0.3064999999999145,
          0.23050000000000637,
          0.21970000000004575
         ]
        }
       ],
       "layout": {
        "height": 350,
        "legend": {
         "orientation": "v",
         "x": 1.1,
         "y": 0.9
        },
        "title": {
         "text": "Reaction time - Contrast",
         "x": 0.25,
         "y": 0.85
        },
        "width": 630,
        "xaxis": {
         "title": {
          "text": "Contrast (%)"
         }
        },
        "yaxis": {
         "title": {
          "text": "Reaction time (s)"
         }
        }
       }
      },
      "text/html": [
       "<div>\n",
       "        \n",
       "        \n",
       "            <div id=\"ed67dce7-820d-44ae-97be-2b94d9b10a2d\" class=\"plotly-graph-div\" style=\"height:350px; width:630px;\"></div>\n",
       "            <script type=\"text/javascript\">\n",
       "                require([\"plotly\"], function(Plotly) {\n",
       "                    window.PLOTLYENV=window.PLOTLYENV || {};\n",
       "                    window.PLOTLYENV.BASE_URL='https://plot.ly';\n",
       "                    \n",
       "                if (document.getElementById(\"ed67dce7-820d-44ae-97be-2b94d9b10a2d\")) {\n",
       "                    Plotly.newPlot(\n",
       "                        'ed67dce7-820d-44ae-97be-2b94d9b10a2d',\n",
       "                        [{\"marker\": {\"color\": \"rgba(0.133, 0.133, 0.133, 1.0)\", \"line\": {\"color\": \"white\", \"width\": 1}, \"size\": 6}, \"mode\": \"markers+lines\", \"name\": \"p_left = 0.5\", \"type\": \"scatter\", \"uid\": \"8aa36d80-52c9-43a8-8177-95e027b18220\", \"x\": [-100.0, -25.0, -5.999999865889549, -1.9999999552965164, 0.0, 1.9999999552965164, 5.999999865889549, 25.0, 100.0], \"y\": [0.30415000000001413, 0.28709999999999525, 0.4508999999999901, 0.614200000000011, 0.4179499999999816, 0.3319500000000013, 0.5697000000000116, 0.25039999999998486, 0.2541999999999973]}, {\"error_y\": {\"array\": [0.04384999999999195, 0.023000000000010346, 0.008000000000009777, 0.4321000000000481, 0.10550000000000104, 0.05535000000000423, 0.05189999999998918, 0.032399999999995543, 0.0], \"arrayminus\": [0.03585000000000349, 0.03294999999998538, 0.12579999999999814, 0.2131000000000256, 0.13974999999995497, 0.05285000000000162, 0.1945000000000121, 0.019300000000015416, 0.0341999999999949], \"color\": \"rgba(0.133, 0.133, 0.133, 0.3)\", \"type\": \"data\", \"visible\": true}, \"marker\": {\"size\": 6}, \"mode\": \"none\", \"name\": \"median with 68% CI\", \"type\": \"scatter\", \"uid\": \"bfa0b4ad-aee9-445b-9442-4cb6b82129c9\", \"x\": [-100.0, -25.0, -5.999999865889549, -1.9999999552965164, 0.0, 1.9999999552965164, 5.999999865889549, 25.0, 100.0], \"y\": [0.30415000000001413, 0.28709999999999525, 0.4508999999999901, 0.614200000000011, 0.4179499999999816, 0.3319500000000013, 0.5697000000000116, 0.25039999999998486, 0.2541999999999973]}, {\"marker\": {\"color\": \"rgba(0.7634747047461135, 0.3348456555528834, 0.225892295531744, 1.0)\", \"line\": {\"color\": \"white\", \"width\": 1}, \"size\": 6}, \"mode\": \"markers+lines\", \"name\": \"p_left = 0.2\", \"type\": \"scatter\", \"uid\": \"9ef30893-49c7-4957-a146-31f2f18ad622\", \"x\": [-100.0, -25.0, -5.999999865889549, -1.9999999552965164, 0.0, 1.9999999552965164, 5.999999865889549, 25.0, 100.0], \"y\": [0.31929999999999836, 0.3407999999999447, 0.331299999999942, 0.434599999999989, 0.3734000000000606, 0.42714999999998327, 0.8816000000001623, 0.23730000000000473, 0.23440000000005057]}, {\"error_y\": {\"array\": [0.028999999999996362, 0.009000000000014552, 0.030700000000024374, 0.016200000000083037, 0.06889999999992824, 0.143950000000018, 0.0, 0.0, 0.0], \"arrayminus\": [0.08935000000002447, 0.04529999999999745, 0.07779999999991105, 0.04144999999996912, 0.08950000000015734, 0.14639999999997144, 0.5720000000001164, 0.018100000000004002, 0.148900000000026], \"color\": \"rgba(0.7634747047461135, 0.3348456555528834, 0.225892295531744, 0.3)\", \"type\": \"data\", \"visible\": true}, \"marker\": {\"size\": 6}, \"mode\": \"none\", \"name\": \"median with 68% CI\", \"type\": \"scatter\", \"uid\": \"5e549f9a-56b2-4c30-96c8-9addf039a512\", \"x\": [-100.0, -25.0, -5.999999865889549, -1.9999999552965164, 0.0, 1.9999999552965164, 5.999999865889549, 25.0, 100.0], \"y\": [0.31929999999999836, 0.3407999999999447, 0.331299999999942, 0.434599999999989, 0.3734000000000606, 0.42714999999998327, 0.8816000000001623, 0.23730000000000473, 0.23440000000005057]}, {\"marker\": {\"color\": \"rgba(0.24715576253545807, 0.49918708160096675, 0.5765599057376697, 1.0)\", \"line\": {\"color\": \"white\", \"width\": 1}, \"size\": 6}, \"mode\": \"markers+lines\", \"name\": \"p_left = 0.8\", \"type\": \"scatter\", \"uid\": \"710ebd36-dd75-46f3-85be-509e525bcce2\", \"x\": [-100.0, -25.0, -5.999999865889549, -1.9999999552965164, 0.0, 1.9999999552965164, 5.999999865889549, 25.0, 100.0], \"y\": [0.2609499999999798, 0.31224999999994907, 0.7545000000000073, 0.245900000000006, 0.3403999999999314, 0.26310000000000855, 0.3064999999999145, 0.23050000000000637, 0.21970000000004575]}, {\"error_y\": {\"array\": [0.006050000000016098, 0.01140000000003738, 0.0, 0.030200000000036198, 0.044750000000135515, 0.011999999999943611, 0.01160000000004402, 0.010699999999928878, 0.006199999999978445], \"arrayminus\": [0.022449999999992087, 0.03974999999991269, 0.5290000000000532, 0.03129999999998745, 0.06349999999991951, 0.02650000000005548, 0.029499999999870852, 0.016799999999989268, 0.008300000000019736], \"color\": \"rgba(0.24715576253545807, 0.49918708160096675, 0.5765599057376697, 0.3)\", \"type\": \"data\", \"visible\": true}, \"marker\": {\"size\": 6}, \"mode\": \"none\", \"name\": \"median with 68% CI\", \"type\": \"scatter\", \"uid\": \"7eeeda8c-2bf8-4167-831c-34bf84113fcc\", \"x\": [-100.0, -25.0, -5.999999865889549, -1.9999999552965164, 0.0, 1.9999999552965164, 5.999999865889549, 25.0, 100.0], \"y\": [0.2609499999999798, 0.31224999999994907, 0.7545000000000073, 0.245900000000006, 0.3403999999999314, 0.26310000000000855, 0.3064999999999145, 0.23050000000000637, 0.21970000000004575]}],\n",
       "                        {\"height\": 350, \"legend\": {\"orientation\": \"v\", \"x\": 1.1, \"y\": 0.9}, \"title\": {\"text\": \"Reaction time - Contrast\", \"x\": 0.25, \"y\": 0.85}, \"width\": 630, \"xaxis\": {\"title\": {\"text\": \"Contrast (%)\"}}, \"yaxis\": {\"title\": {\"text\": \"Reaction time (s)\"}}},\n",
       "                        {\"showLink\": false, \"linkText\": \"Export to plot.ly\", \"plotlyServerURL\": \"https://plot.ly\", \"responsive\": true}\n",
       "                    ).then(function(){\n",
       "                            \n",
       "var gd = document.getElementById('ed67dce7-820d-44ae-97be-2b94d9b10a2d');\n",
       "var x = new MutationObserver(function (mutations, observer) {{\n",
       "        var display = window.getComputedStyle(gd).display;\n",
       "        if (!display || display === 'none') {{\n",
       "            console.log([gd, 'removed!']);\n",
       "            Plotly.purge(gd);\n",
       "            observer.disconnect();\n",
       "        }}\n",
       "}});\n",
       "\n",
       "// Listen for the removal of the full notebook cells\n",
       "var notebookContainer = gd.closest('#notebook-container');\n",
       "if (notebookContainer) {{\n",
       "    x.observe(notebookContainer, {childList: true});\n",
       "}}\n",
       "\n",
       "// Listen for the clearing of the current output cell\n",
       "var outputEl = gd.closest('.output');\n",
       "if (outputEl) {{\n",
       "    x.observe(outputEl, {childList: true});\n",
       "}}\n",
       "\n",
       "                        })\n",
       "                };\n",
       "                });\n",
       "            </script>\n",
       "        </div>"
      ]
     },
     "metadata": {},
     "output_type": "display_data"
    }
   ],
   "source": [
    "subj_uuid = (subject.Subject & 'subject_nickname=\"IBL_13\"').fetch1('subject_uuid')\n",
    "key = {'subject_uuid': subj_uuid,\n",
    "   'session_date': datetime.date(2019, 4, 8)}\n",
    "sessions = behavior_analyses.BehavioralSummaryByDate.PsychResults * behavior_analyses.BehavioralSummaryByDate.ReactionTimeContrast & key\n",
    "\n",
    "data = []\n",
    "\n",
    "for session in sessions.fetch('KEY'):\n",
    "    contrasts, prob_left, reaction_time, ci_low, ci_high = \\\n",
    "        (sessions & session).fetch1(\n",
    "            'signed_contrasts', 'prob_left', 'reaction_time_contrast', \n",
    "            'reaction_time_ci_low', 'reaction_time_ci_high')\n",
    "    contrasts = contrasts *100\n",
    "    error_low = reaction_time - ci_low\n",
    "    error_high = ci_high - reaction_time\n",
    "    \n",
    "    curve_color, error_color = putils.get_color(prob_left, 0.3)\n",
    "\n",
    "    rt_data = go.Scatter(\n",
    "        x=contrasts.tolist(),\n",
    "        y=reaction_time.tolist(),\n",
    "        marker=dict(\n",
    "            size=6,\n",
    "            color=curve_color,\n",
    "            line=dict(\n",
    "                color='white',\n",
    "                width=1\n",
    "            )\n",
    "        ),\n",
    "        mode='markers+lines',\n",
    "        name=f'p_left = {prob_left}'\n",
    "    )\n",
    "\n",
    "    rt_errorbar = go.Scatter(\n",
    "        x=contrasts.tolist(),\n",
    "        y=reaction_time.tolist(),\n",
    "        error_y=dict(\n",
    "            type='data',\n",
    "            array=error_high.tolist(),\n",
    "            arrayminus=error_low.tolist(),\n",
    "            visible=True,\n",
    "            color=error_color\n",
    "        ),\n",
    "        marker=dict(\n",
    "            size=6,\n",
    "        ),\n",
    "        mode='none',\n",
    "        name='median with 68% CI',\n",
    "    )\n",
    "    \n",
    "    data.append(rt_data)\n",
    "    data.append(rt_errorbar)\n",
    "\n",
    "layout = go.Layout(\n",
    "    width=630,\n",
    "    height=350,\n",
    "    title=dict(\n",
    "        text='Reaction time - Contrast',\n",
    "        x=0.25,\n",
    "        y=0.85\n",
    "    ), \n",
    "    xaxis=dict(\n",
    "        title='Contrast (%)'), \n",
    "    yaxis=dict(\n",
    "        title='Reaction time (s)'),\n",
    "    legend=dict(\n",
    "        x=1.1, \n",
    "        y=0.9,\n",
    "        orientation='v'),\n",
    ")\n",
    "\n",
    "\n",
    "fig = go.Figure(data=data, layout=layout)\n",
    "plotly.offline.iplot(fig)"
   ]
  },
  {
   "cell_type": "code",
   "execution_count": 22,
   "metadata": {},
   "outputs": [],
   "source": [
    "f = open(\"date_reaction_time_contrast.json\",\"w\")\n",
    "s = json.dumps(fig.to_plotly_json())\n",
    "f.write(s)\n",
    "f.close()"
   ]
  },
  {
   "cell_type": "code",
   "execution_count": null,
   "metadata": {},
   "outputs": [],
   "source": []
  }
 ],
 "metadata": {
  "kernelspec": {
   "display_name": "Python 3",
   "language": "python",
   "name": "python3"
  },
  "language_info": {
   "codemirror_mode": {
    "name": "ipython",
    "version": 3
   },
   "file_extension": ".py",
   "mimetype": "text/x-python",
   "name": "python",
   "nbconvert_exporter": "python",
   "pygments_lexer": "ipython3",
   "version": "3.6.6"
  }
 },
 "nbformat": 4,
 "nbformat_minor": 2
}
