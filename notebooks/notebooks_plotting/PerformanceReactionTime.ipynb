{
 "cells": [
  {
   "cell_type": "code",
   "execution_count": 1,
   "metadata": {},
   "outputs": [
    {
     "name": "stdout",
     "output_type": "stream",
     "text": [
      "Connecting shan@datajoint.internationalbrainlab.org:3306\n"
     ]
    },
    {
     "data": {
      "text/html": [
       "        <script type=\"text/javascript\">\n",
       "        window.PlotlyConfig = {MathJaxConfig: 'local'};\n",
       "        if (window.MathJax) {MathJax.Hub.Config({SVG: {font: \"STIX-Web\"}});}\n",
       "        if (typeof require !== 'undefined') {\n",
       "        require.undef(\"plotly\");\n",
       "        requirejs.config({\n",
       "            paths: {\n",
       "                'plotly': ['https://cdn.plot.ly/plotly-latest.min']\n",
       "            }\n",
       "        });\n",
       "        require(['plotly'], function(Plotly) {\n",
       "            window._Plotly = Plotly;\n",
       "        });\n",
       "        }\n",
       "        </script>\n",
       "        "
      ]
     },
     "metadata": {},
     "output_type": "display_data"
    }
   ],
   "source": [
    "from ibl_pipeline.analyses import behavior\n",
    "from ibl_pipeline import behavior as behavior_ingest\n",
    "from ibl_pipeline import subject, acquisition\n",
    "from ibl_pipeline.utils import psychofit as psy\n",
    "import plotting_utils as putils\n",
    "from uuid import UUID\n",
    "import numpy as np\n",
    "import datetime\n",
    "import datajoint as dj\n",
    "import json\n",
    "import seaborn as sns\n",
    "import pandas as pd\n",
    "import plotly\n",
    "import plotly.graph_objs as go\n",
    "import statsmodels.stats.proportion as smp\n",
    "plotly.offline.init_notebook_mode(connected=True)"
   ]
  },
  {
   "cell_type": "code",
   "execution_count": 2,
   "metadata": {},
   "outputs": [],
   "source": [
    "subj = subject.Subject & {'subject_nickname': 'CSHL_007'}\n",
    "# get trial counts and session length to date\n",
    "session_info = (behavior.BehavioralSummaryByDate * \n",
    "                behavior.BehavioralSummaryByDate.ReactionTimeByDate & \n",
    "                subj).proj('session_date', 'performance_easy', 'median_reaction_time').fetch(as_dict=True)\n",
    "session_info = pd.DataFrame(session_info)\n",
    "\n",
    "# get the first date when animal became \"trained\" and \"ready for ephys\"\n",
    "status = putils.get_status(subj)\n",
    "\n",
    "# get date range and mondays\n",
    "d = putils.get_date_range(subj)"
   ]
  },
  {
   "cell_type": "code",
   "execution_count": 25,
   "metadata": {},
   "outputs": [
    {
     "data": {
      "application/vnd.plotly.v1+json": {
       "config": {
        "linkText": "Export to plot.ly",
        "plotlyServerURL": "https://plot.ly",
        "responsive": true,
        "showLink": false
       },
       "data": [
        {
         "marker": {
          "color": "black",
          "line": {
           "color": "white",
           "width": 1
          },
          "size": 6
         },
         "mode": "markers+lines",
         "name": "performance easy",
         "showlegend": false,
         "type": "scatter",
         "uid": "c0d68e30-5429-4cf5-b3c8-b0f1f4fe59f6",
         "x": [
          "2019-03-04",
          "2019-03-05",
          "2019-03-06",
          "2019-03-11",
          "2019-03-13",
          "2019-03-14",
          "2019-03-15",
          "2019-03-18",
          "2019-03-19",
          "2019-03-20",
          "2019-03-21",
          "2019-03-22",
          "2019-03-25",
          "2019-03-26",
          "2019-03-27",
          "2019-03-28",
          "2019-03-29",
          "2019-04-01",
          "2019-04-02",
          "2019-04-03",
          "2019-04-05",
          "2019-04-08",
          "2019-04-09",
          "2019-04-10",
          "2019-04-12",
          "2019-04-15",
          "2019-04-16",
          "2019-04-17",
          "2019-04-18",
          "2019-04-19",
          "2019-04-22",
          "2019-04-24",
          "2019-04-25",
          "2019-04-30",
          "2019-05-02",
          "2019-05-03",
          "2019-05-06",
          "2019-05-07",
          "2019-05-10",
          "2019-05-13",
          "2019-05-14",
          "2019-05-15",
          "2019-05-16",
          "2019-05-17",
          "2019-05-20",
          "2019-05-22",
          "2019-05-23",
          "2019-05-24",
          "2019-05-28",
          "2019-05-29",
          "2019-05-30",
          "2019-06-03",
          "2019-06-04",
          "2019-06-05",
          "2019-06-06"
         ],
         "y": [
          0.342857,
          0.72293,
          0.658385,
          0.63089,
          0.735945,
          0.818414,
          0.852273,
          0.902778,
          0.932331,
          0.76,
          0.916667,
          0.831325,
          0.917526,
          0.78481,
          0.934426,
          0.763158,
          0.831683,
          0.843137,
          0.866667,
          0.988372,
          0.819149,
          0.9,
          0.960317,
          0.984615,
          0.878049,
          0.978261,
          0.859155,
          0.833333,
          0.913793,
          0.75,
          0.913043,
          0.934783,
          0.947917,
          0.820513,
          0.930233,
          0.909091,
          0.888889,
          0.891892,
          0.871287,
          0.90625,
          0.944444,
          0.805195,
          0.969388,
          0.780488,
          0.903614,
          0.948718,
          0.922078,
          0.917808,
          0.959596,
          0.956044,
          0.964286,
          0.976923,
          0.940476,
          0.981818,
          0.98
         ],
         "yaxis": "y"
        },
        {
         "marker": {
          "color": "red",
          "line": {
           "color": "white",
           "width": 1
          },
          "size": 6
         },
         "mode": "markers+lines",
         "name": "reaction time",
         "showlegend": false,
         "type": "scatter",
         "uid": "aa04262b-c7ca-40a6-be4f-235be9b3ef66",
         "x": [
          "2019-03-04",
          "2019-03-05",
          "2019-03-06",
          "2019-03-11",
          "2019-03-13",
          "2019-03-14",
          "2019-03-15",
          "2019-03-18",
          "2019-03-19",
          "2019-03-20",
          "2019-03-21",
          "2019-03-22",
          "2019-03-25",
          "2019-03-26",
          "2019-03-27",
          "2019-03-28",
          "2019-03-29",
          "2019-04-01",
          "2019-04-02",
          "2019-04-03",
          "2019-04-05",
          "2019-04-08",
          "2019-04-09",
          "2019-04-10",
          "2019-04-12",
          "2019-04-15",
          "2019-04-16",
          "2019-04-17",
          "2019-04-18",
          "2019-04-19",
          "2019-04-22",
          "2019-04-24",
          "2019-04-25",
          "2019-04-30",
          "2019-05-02",
          "2019-05-03",
          "2019-05-06",
          "2019-05-07",
          "2019-05-10",
          "2019-05-13",
          "2019-05-14",
          "2019-05-15",
          "2019-05-16",
          "2019-05-17",
          "2019-05-20",
          "2019-05-22",
          "2019-05-23",
          "2019-05-24",
          "2019-05-28",
          "2019-05-29",
          "2019-05-30",
          "2019-06-03",
          "2019-06-04",
          "2019-06-05",
          "2019-06-06"
         ],
         "y": [
          3.6916,
          4.7409,
          4.174,
          1.7122,
          0.6128,
          0.4447,
          0.7339,
          0.5719,
          0.72505,
          4.3517,
          0.60495,
          1.16605,
          0.84465,
          0.93935,
          0.77235,
          4.161,
          0.7946,
          0.4862,
          0.6262,
          0.4514,
          0.5633,
          0.39525,
          0.3856,
          0.70465,
          0.5803,
          0.7798,
          0.8036,
          1.83675,
          1.11045,
          4.5512,
          0.7365,
          0.3422,
          0.4629,
          1.05075,
          0.41735,
          0.554,
          0.5392,
          0.9587,
          0.47265,
          0.5104,
          0.3623,
          0.614,
          0.3636,
          0.51605,
          0.5218,
          0.5806,
          0.2953,
          0.4025,
          0.33905,
          0.34205,
          0.36175,
          0.2793,
          0.2778,
          0.35185,
          0.3588
         ],
         "yaxis": "y2"
        },
        {
         "legendgroup": "monday",
         "line": {
          "color": "gray",
          "dash": "dot",
          "width": 0.5
         },
         "mode": "lines",
         "name": "Mondays",
         "showlegend": true,
         "type": "scatter",
         "uid": "2ed11dbb-2d88-4a2a-80a8-82193deb5e7c",
         "x": [
          "2019-02-18",
          "2019-02-18"
         ],
         "xaxis": "x",
         "y": [
          0,
          1.1
         ],
         "yaxis": "y"
        },
        {
         "legendgroup": "monday",
         "line": {
          "color": "gray",
          "dash": "dot",
          "width": 0.5
         },
         "mode": "lines",
         "name": "Mondays",
         "showlegend": false,
         "type": "scatter",
         "uid": "c808d9de-6658-4cfc-adb3-a6eb02218dc1",
         "x": [
          "2019-02-25",
          "2019-02-25"
         ],
         "xaxis": "x",
         "y": [
          0,
          1.1
         ],
         "yaxis": "y"
        },
        {
         "legendgroup": "monday",
         "line": {
          "color": "gray",
          "dash": "dot",
          "width": 0.5
         },
         "mode": "lines",
         "name": "Mondays",
         "showlegend": false,
         "type": "scatter",
         "uid": "6e3b5a64-7ee1-4866-b726-14b36715d853",
         "x": [
          "2019-03-04",
          "2019-03-04"
         ],
         "xaxis": "x",
         "y": [
          0,
          1.1
         ],
         "yaxis": "y"
        },
        {
         "legendgroup": "monday",
         "line": {
          "color": "gray",
          "dash": "dot",
          "width": 0.5
         },
         "mode": "lines",
         "name": "Mondays",
         "showlegend": false,
         "type": "scatter",
         "uid": "49806079-db96-4ce0-af3f-06fa5d17c0ee",
         "x": [
          "2019-03-11",
          "2019-03-11"
         ],
         "xaxis": "x",
         "y": [
          0,
          1.1
         ],
         "yaxis": "y"
        },
        {
         "legendgroup": "monday",
         "line": {
          "color": "gray",
          "dash": "dot",
          "width": 0.5
         },
         "mode": "lines",
         "name": "Mondays",
         "showlegend": false,
         "type": "scatter",
         "uid": "434e8f7b-1a34-430b-b067-9aa6db104213",
         "x": [
          "2019-03-18",
          "2019-03-18"
         ],
         "xaxis": "x",
         "y": [
          0,
          1.1
         ],
         "yaxis": "y"
        },
        {
         "legendgroup": "monday",
         "line": {
          "color": "gray",
          "dash": "dot",
          "width": 0.5
         },
         "mode": "lines",
         "name": "Mondays",
         "showlegend": false,
         "type": "scatter",
         "uid": "da5f5995-925d-4f2b-9dd9-49d2d2989193",
         "x": [
          "2019-03-25",
          "2019-03-25"
         ],
         "xaxis": "x",
         "y": [
          0,
          1.1
         ],
         "yaxis": "y"
        },
        {
         "legendgroup": "monday",
         "line": {
          "color": "gray",
          "dash": "dot",
          "width": 0.5
         },
         "mode": "lines",
         "name": "Mondays",
         "showlegend": false,
         "type": "scatter",
         "uid": "0041b90d-c5ab-4994-9342-c41d29dec61f",
         "x": [
          "2019-04-01",
          "2019-04-01"
         ],
         "xaxis": "x",
         "y": [
          0,
          1.1
         ],
         "yaxis": "y"
        },
        {
         "legendgroup": "monday",
         "line": {
          "color": "gray",
          "dash": "dot",
          "width": 0.5
         },
         "mode": "lines",
         "name": "Mondays",
         "showlegend": false,
         "type": "scatter",
         "uid": "d7e75950-78ac-4444-bcb8-a57767d532b9",
         "x": [
          "2019-04-08",
          "2019-04-08"
         ],
         "xaxis": "x",
         "y": [
          0,
          1.1
         ],
         "yaxis": "y"
        },
        {
         "legendgroup": "monday",
         "line": {
          "color": "gray",
          "dash": "dot",
          "width": 0.5
         },
         "mode": "lines",
         "name": "Mondays",
         "showlegend": false,
         "type": "scatter",
         "uid": "96a40bc2-f35e-4428-89a5-7b318e6d2fc7",
         "x": [
          "2019-04-15",
          "2019-04-15"
         ],
         "xaxis": "x",
         "y": [
          0,
          1.1
         ],
         "yaxis": "y"
        },
        {
         "legendgroup": "monday",
         "line": {
          "color": "gray",
          "dash": "dot",
          "width": 0.5
         },
         "mode": "lines",
         "name": "Mondays",
         "showlegend": false,
         "type": "scatter",
         "uid": "67764d73-1c76-43d2-ad1b-dc380edfb7fe",
         "x": [
          "2019-04-22",
          "2019-04-22"
         ],
         "xaxis": "x",
         "y": [
          0,
          1.1
         ],
         "yaxis": "y"
        },
        {
         "legendgroup": "monday",
         "line": {
          "color": "gray",
          "dash": "dot",
          "width": 0.5
         },
         "mode": "lines",
         "name": "Mondays",
         "showlegend": false,
         "type": "scatter",
         "uid": "24df6af4-fd25-45a7-a674-cbee5b724b49",
         "x": [
          "2019-04-29",
          "2019-04-29"
         ],
         "xaxis": "x",
         "y": [
          0,
          1.1
         ],
         "yaxis": "y"
        },
        {
         "legendgroup": "monday",
         "line": {
          "color": "gray",
          "dash": "dot",
          "width": 0.5
         },
         "mode": "lines",
         "name": "Mondays",
         "showlegend": false,
         "type": "scatter",
         "uid": "9ee53a30-f988-4b78-87ef-e343e980fd4f",
         "x": [
          "2019-05-06",
          "2019-05-06"
         ],
         "xaxis": "x",
         "y": [
          0,
          1.1
         ],
         "yaxis": "y"
        },
        {
         "legendgroup": "monday",
         "line": {
          "color": "gray",
          "dash": "dot",
          "width": 0.5
         },
         "mode": "lines",
         "name": "Mondays",
         "showlegend": false,
         "type": "scatter",
         "uid": "67ef6676-8b76-4f9f-a0a4-8b9192979c22",
         "x": [
          "2019-05-13",
          "2019-05-13"
         ],
         "xaxis": "x",
         "y": [
          0,
          1.1
         ],
         "yaxis": "y"
        },
        {
         "legendgroup": "monday",
         "line": {
          "color": "gray",
          "dash": "dot",
          "width": 0.5
         },
         "mode": "lines",
         "name": "Mondays",
         "showlegend": false,
         "type": "scatter",
         "uid": "126a810f-15b9-4d91-b1de-4b3d92a45193",
         "x": [
          "2019-05-20",
          "2019-05-20"
         ],
         "xaxis": "x",
         "y": [
          0,
          1.1
         ],
         "yaxis": "y"
        },
        {
         "legendgroup": "monday",
         "line": {
          "color": "gray",
          "dash": "dot",
          "width": 0.5
         },
         "mode": "lines",
         "name": "Mondays",
         "showlegend": false,
         "type": "scatter",
         "uid": "624b88ca-7db9-4408-9b28-3a37e4fa6cd4",
         "x": [
          "2019-05-27",
          "2019-05-27"
         ],
         "xaxis": "x",
         "y": [
          0,
          1.1
         ],
         "yaxis": "y"
        },
        {
         "legendgroup": "monday",
         "line": {
          "color": "gray",
          "dash": "dot",
          "width": 0.5
         },
         "mode": "lines",
         "name": "Mondays",
         "showlegend": false,
         "type": "scatter",
         "uid": "c089ac67-8448-4432-bb7e-eed41805ff5a",
         "x": [
          "2019-06-03",
          "2019-06-03"
         ],
         "xaxis": "x",
         "y": [
          0,
          1.1
         ],
         "yaxis": "y"
        },
        {
         "legendgroup": "status",
         "marker": {
          "color": "orange"
         },
         "mode": "lines",
         "name": "first day got trained",
         "type": "scatter",
         "uid": "b09c0f38-0fcd-4ac3-b1ef-7658455c42bb",
         "x": [
          "2019-03-19",
          "2019-03-19"
         ],
         "xaxis": "x",
         "y": [
          0,
          1.1
         ],
         "yaxis": "y"
        },
        {
         "legendgroup": "status",
         "marker": {
          "color": "forestgreen"
         },
         "mode": "lines",
         "name": "first day got biased",
         "type": "scatter",
         "uid": "d126b643-241b-43a5-b2b2-c4698af12edb",
         "x": [
          "2019-03-25",
          "2019-03-25"
         ],
         "xaxis": "x",
         "y": [
          0,
          1.1
         ],
         "yaxis": "y"
        }
       ],
       "layout": {
        "height": 400,
        "legend": {
         "orientation": "v",
         "x": 1.2,
         "y": 0.8
        },
        "title": {
         "text": "Performance and median reaction time",
         "x": 0.14,
         "y": 0.85
        },
        "width": 700,
        "xaxis": {
         "showgrid": false,
         "title": {
          "text": "Date"
         }
        },
        "yaxis": {
         "range": [
          0,
          1.1
         ],
         "title": {
          "text": "Performance on easy trials"
         }
        },
        "yaxis2": {
         "color": "red",
         "dtick": [
          -1,
          0,
          1
         ],
         "overlaying": "y",
         "range": [
          -1,
          1
         ],
         "side": "right",
         "title": {
          "text": "Median reaction time (s)"
         },
         "type": "log"
        }
       }
      },
      "text/html": [
       "<div>\n",
       "        \n",
       "        \n",
       "            <div id=\"d9d7af1d-b33b-4b83-abe3-1eee7b94586d\" class=\"plotly-graph-div\" style=\"height:400px; width:700px;\"></div>\n",
       "            <script type=\"text/javascript\">\n",
       "                require([\"plotly\"], function(Plotly) {\n",
       "                    window.PLOTLYENV=window.PLOTLYENV || {};\n",
       "                    window.PLOTLYENV.BASE_URL='https://plot.ly';\n",
       "                    \n",
       "                if (document.getElementById(\"d9d7af1d-b33b-4b83-abe3-1eee7b94586d\")) {\n",
       "                    Plotly.newPlot(\n",
       "                        'd9d7af1d-b33b-4b83-abe3-1eee7b94586d',\n",
       "                        [{\"marker\": {\"color\": \"black\", \"line\": {\"color\": \"white\", \"width\": 1}, \"size\": 6}, \"mode\": \"markers+lines\", \"name\": \"performance easy\", \"showlegend\": false, \"type\": \"scatter\", \"uid\": \"3c1252f7-4122-4f68-89c5-0ef171e6419e\", \"x\": [\"2019-03-04\", \"2019-03-05\", \"2019-03-06\", \"2019-03-11\", \"2019-03-13\", \"2019-03-14\", \"2019-03-15\", \"2019-03-18\", \"2019-03-19\", \"2019-03-20\", \"2019-03-21\", \"2019-03-22\", \"2019-03-25\", \"2019-03-26\", \"2019-03-27\", \"2019-03-28\", \"2019-03-29\", \"2019-04-01\", \"2019-04-02\", \"2019-04-03\", \"2019-04-05\", \"2019-04-08\", \"2019-04-09\", \"2019-04-10\", \"2019-04-12\", \"2019-04-15\", \"2019-04-16\", \"2019-04-17\", \"2019-04-18\", \"2019-04-19\", \"2019-04-22\", \"2019-04-24\", \"2019-04-25\", \"2019-04-30\", \"2019-05-02\", \"2019-05-03\", \"2019-05-06\", \"2019-05-07\", \"2019-05-10\", \"2019-05-13\", \"2019-05-14\", \"2019-05-15\", \"2019-05-16\", \"2019-05-17\", \"2019-05-20\", \"2019-05-22\", \"2019-05-23\", \"2019-05-24\", \"2019-05-28\", \"2019-05-29\", \"2019-05-30\", \"2019-06-03\", \"2019-06-04\", \"2019-06-05\", \"2019-06-06\"], \"y\": [0.342857, 0.72293, 0.658385, 0.63089, 0.735945, 0.818414, 0.852273, 0.902778, 0.932331, 0.76, 0.916667, 0.831325, 0.917526, 0.78481, 0.934426, 0.763158, 0.831683, 0.843137, 0.866667, 0.988372, 0.819149, 0.9, 0.960317, 0.984615, 0.878049, 0.978261, 0.859155, 0.833333, 0.913793, 0.75, 0.913043, 0.934783, 0.947917, 0.820513, 0.930233, 0.909091, 0.888889, 0.891892, 0.871287, 0.90625, 0.944444, 0.805195, 0.969388, 0.780488, 0.903614, 0.948718, 0.922078, 0.917808, 0.959596, 0.956044, 0.964286, 0.976923, 0.940476, 0.981818, 0.98], \"yaxis\": \"y\"}, {\"marker\": {\"color\": \"red\", \"line\": {\"color\": \"white\", \"width\": 1}, \"size\": 6}, \"mode\": \"markers+lines\", \"name\": \"reaction time\", \"showlegend\": false, \"type\": \"scatter\", \"uid\": \"4e235a55-84f3-4da3-badd-86b63172a974\", \"x\": [\"2019-03-04\", \"2019-03-05\", \"2019-03-06\", \"2019-03-11\", \"2019-03-13\", \"2019-03-14\", \"2019-03-15\", \"2019-03-18\", \"2019-03-19\", \"2019-03-20\", \"2019-03-21\", \"2019-03-22\", \"2019-03-25\", \"2019-03-26\", \"2019-03-27\", \"2019-03-28\", \"2019-03-29\", \"2019-04-01\", \"2019-04-02\", \"2019-04-03\", \"2019-04-05\", \"2019-04-08\", \"2019-04-09\", \"2019-04-10\", \"2019-04-12\", \"2019-04-15\", \"2019-04-16\", \"2019-04-17\", \"2019-04-18\", \"2019-04-19\", \"2019-04-22\", \"2019-04-24\", \"2019-04-25\", \"2019-04-30\", \"2019-05-02\", \"2019-05-03\", \"2019-05-06\", \"2019-05-07\", \"2019-05-10\", \"2019-05-13\", \"2019-05-14\", \"2019-05-15\", \"2019-05-16\", \"2019-05-17\", \"2019-05-20\", \"2019-05-22\", \"2019-05-23\", \"2019-05-24\", \"2019-05-28\", \"2019-05-29\", \"2019-05-30\", \"2019-06-03\", \"2019-06-04\", \"2019-06-05\", \"2019-06-06\"], \"y\": [3.6916, 4.7409, 4.174, 1.7122, 0.6128, 0.4447, 0.7339, 0.5719, 0.72505, 4.3517, 0.60495, 1.16605, 0.84465, 0.93935, 0.77235, 4.161, 0.7946, 0.4862, 0.6262, 0.4514, 0.5633, 0.39525, 0.3856, 0.70465, 0.5803, 0.7798, 0.8036, 1.83675, 1.11045, 4.5512, 0.7365, 0.3422, 0.4629, 1.05075, 0.41735, 0.554, 0.5392, 0.9587, 0.47265, 0.5104, 0.3623, 0.614, 0.3636, 0.51605, 0.5218, 0.5806, 0.2953, 0.4025, 0.33905, 0.34205, 0.36175, 0.2793, 0.2778, 0.35185, 0.3588], \"yaxis\": \"y2\"}, {\"legendgroup\": \"monday\", \"line\": {\"color\": \"gray\", \"dash\": \"dot\", \"width\": 0.5}, \"mode\": \"lines\", \"name\": \"Mondays\", \"showlegend\": true, \"type\": \"scatter\", \"uid\": \"1c215391-1f20-4d5c-8ec7-c8885ca2a4d8\", \"x\": [\"2019-02-18\", \"2019-02-18\"], \"xaxis\": \"x\", \"y\": [0, 1.1], \"yaxis\": \"y\"}, {\"legendgroup\": \"monday\", \"line\": {\"color\": \"gray\", \"dash\": \"dot\", \"width\": 0.5}, \"mode\": \"lines\", \"name\": \"Mondays\", \"showlegend\": false, \"type\": \"scatter\", \"uid\": \"ecb16118-2729-46c5-8141-e19f1618976f\", \"x\": [\"2019-02-25\", \"2019-02-25\"], \"xaxis\": \"x\", \"y\": [0, 1.1], \"yaxis\": \"y\"}, {\"legendgroup\": \"monday\", \"line\": {\"color\": \"gray\", \"dash\": \"dot\", \"width\": 0.5}, \"mode\": \"lines\", \"name\": \"Mondays\", \"showlegend\": false, \"type\": \"scatter\", \"uid\": \"f53bfcab-11bf-4324-be16-940d789493e4\", \"x\": [\"2019-03-04\", \"2019-03-04\"], \"xaxis\": \"x\", \"y\": [0, 1.1], \"yaxis\": \"y\"}, {\"legendgroup\": \"monday\", \"line\": {\"color\": \"gray\", \"dash\": \"dot\", \"width\": 0.5}, \"mode\": \"lines\", \"name\": \"Mondays\", \"showlegend\": false, \"type\": \"scatter\", \"uid\": \"e3593fac-4562-4012-82b6-75295c1ec363\", \"x\": [\"2019-03-11\", \"2019-03-11\"], \"xaxis\": \"x\", \"y\": [0, 1.1], \"yaxis\": \"y\"}, {\"legendgroup\": \"monday\", \"line\": {\"color\": \"gray\", \"dash\": \"dot\", \"width\": 0.5}, \"mode\": \"lines\", \"name\": \"Mondays\", \"showlegend\": false, \"type\": \"scatter\", \"uid\": \"e184fbe0-0a40-4c4b-9cb1-8f952c5bb280\", \"x\": [\"2019-03-18\", \"2019-03-18\"], \"xaxis\": \"x\", \"y\": [0, 1.1], \"yaxis\": \"y\"}, {\"legendgroup\": \"monday\", \"line\": {\"color\": \"gray\", \"dash\": \"dot\", \"width\": 0.5}, \"mode\": \"lines\", \"name\": \"Mondays\", \"showlegend\": false, \"type\": \"scatter\", \"uid\": \"07f01fb9-e35b-4bf0-9c45-33e12a185a87\", \"x\": [\"2019-03-25\", \"2019-03-25\"], \"xaxis\": \"x\", \"y\": [0, 1.1], \"yaxis\": \"y\"}, {\"legendgroup\": \"monday\", \"line\": {\"color\": \"gray\", \"dash\": \"dot\", \"width\": 0.5}, \"mode\": \"lines\", \"name\": \"Mondays\", \"showlegend\": false, \"type\": \"scatter\", \"uid\": \"b07ac18f-44c3-4c97-9c02-373a796da5d9\", \"x\": [\"2019-04-01\", \"2019-04-01\"], \"xaxis\": \"x\", \"y\": [0, 1.1], \"yaxis\": \"y\"}, {\"legendgroup\": \"monday\", \"line\": {\"color\": \"gray\", \"dash\": \"dot\", \"width\": 0.5}, \"mode\": \"lines\", \"name\": \"Mondays\", \"showlegend\": false, \"type\": \"scatter\", \"uid\": \"d8471df5-daeb-4489-8509-e7d0bb1f6cbc\", \"x\": [\"2019-04-08\", \"2019-04-08\"], \"xaxis\": \"x\", \"y\": [0, 1.1], \"yaxis\": \"y\"}, {\"legendgroup\": \"monday\", \"line\": {\"color\": \"gray\", \"dash\": \"dot\", \"width\": 0.5}, \"mode\": \"lines\", \"name\": \"Mondays\", \"showlegend\": false, \"type\": \"scatter\", \"uid\": \"8145a990-e8fc-41d4-9ea7-816901679da1\", \"x\": [\"2019-04-15\", \"2019-04-15\"], \"xaxis\": \"x\", \"y\": [0, 1.1], \"yaxis\": \"y\"}, {\"legendgroup\": \"monday\", \"line\": {\"color\": \"gray\", \"dash\": \"dot\", \"width\": 0.5}, \"mode\": \"lines\", \"name\": \"Mondays\", \"showlegend\": false, \"type\": \"scatter\", \"uid\": \"c548e562-97aa-4002-86fb-83f2acaf649c\", \"x\": [\"2019-04-22\", \"2019-04-22\"], \"xaxis\": \"x\", \"y\": [0, 1.1], \"yaxis\": \"y\"}, {\"legendgroup\": \"monday\", \"line\": {\"color\": \"gray\", \"dash\": \"dot\", \"width\": 0.5}, \"mode\": \"lines\", \"name\": \"Mondays\", \"showlegend\": false, \"type\": \"scatter\", \"uid\": \"cc6129cd-4a36-498f-b776-67f859d086b2\", \"x\": [\"2019-04-29\", \"2019-04-29\"], \"xaxis\": \"x\", \"y\": [0, 1.1], \"yaxis\": \"y\"}, {\"legendgroup\": \"monday\", \"line\": {\"color\": \"gray\", \"dash\": \"dot\", \"width\": 0.5}, \"mode\": \"lines\", \"name\": \"Mondays\", \"showlegend\": false, \"type\": \"scatter\", \"uid\": \"396c1445-11bd-4e36-aac2-5d4424e7f0f1\", \"x\": [\"2019-05-06\", \"2019-05-06\"], \"xaxis\": \"x\", \"y\": [0, 1.1], \"yaxis\": \"y\"}, {\"legendgroup\": \"monday\", \"line\": {\"color\": \"gray\", \"dash\": \"dot\", \"width\": 0.5}, \"mode\": \"lines\", \"name\": \"Mondays\", \"showlegend\": false, \"type\": \"scatter\", \"uid\": \"6644f7b6-5ac1-42e5-a27c-fcd33a66c3f9\", \"x\": [\"2019-05-13\", \"2019-05-13\"], \"xaxis\": \"x\", \"y\": [0, 1.1], \"yaxis\": \"y\"}, {\"legendgroup\": \"monday\", \"line\": {\"color\": \"gray\", \"dash\": \"dot\", \"width\": 0.5}, \"mode\": \"lines\", \"name\": \"Mondays\", \"showlegend\": false, \"type\": \"scatter\", \"uid\": \"89cdeeb4-6f38-4b32-96b5-cc6db01a3a63\", \"x\": [\"2019-05-20\", \"2019-05-20\"], \"xaxis\": \"x\", \"y\": [0, 1.1], \"yaxis\": \"y\"}, {\"legendgroup\": \"monday\", \"line\": {\"color\": \"gray\", \"dash\": \"dot\", \"width\": 0.5}, \"mode\": \"lines\", \"name\": \"Mondays\", \"showlegend\": false, \"type\": \"scatter\", \"uid\": \"41783bec-8c0e-4f9b-ad30-feaf74735f12\", \"x\": [\"2019-05-27\", \"2019-05-27\"], \"xaxis\": \"x\", \"y\": [0, 1.1], \"yaxis\": \"y\"}, {\"legendgroup\": \"monday\", \"line\": {\"color\": \"gray\", \"dash\": \"dot\", \"width\": 0.5}, \"mode\": \"lines\", \"name\": \"Mondays\", \"showlegend\": false, \"type\": \"scatter\", \"uid\": \"e45a7071-4b75-4397-90f4-b7407db814bf\", \"x\": [\"2019-06-03\", \"2019-06-03\"], \"xaxis\": \"x\", \"y\": [0, 1.1], \"yaxis\": \"y\"}, {\"legendgroup\": \"status\", \"marker\": {\"color\": \"orange\"}, \"mode\": \"lines\", \"name\": \"first day got trained\", \"type\": \"scatter\", \"uid\": \"8a8d9187-30b5-4a13-80bc-c758e3175392\", \"x\": [\"2019-03-19\", \"2019-03-19\"], \"xaxis\": \"x\", \"y\": [0, 1.1], \"yaxis\": \"y\"}, {\"legendgroup\": \"status\", \"marker\": {\"color\": \"forestgreen\"}, \"mode\": \"lines\", \"name\": \"first day got biased\", \"type\": \"scatter\", \"uid\": \"26e89dc0-0e84-41e1-8603-b08b7cc76f5b\", \"x\": [\"2019-03-25\", \"2019-03-25\"], \"xaxis\": \"x\", \"y\": [0, 1.1], \"yaxis\": \"y\"}],\n",
       "                        {\"height\": 400, \"legend\": {\"orientation\": \"v\", \"x\": 1.2, \"y\": 0.8}, \"title\": {\"text\": \"Performance and median reaction time\", \"x\": 0.14, \"y\": 0.85}, \"width\": 700, \"xaxis\": {\"showgrid\": false, \"title\": {\"text\": \"Date\"}}, \"yaxis\": {\"range\": [0, 1.1], \"title\": {\"text\": \"Performance on easy trials\"}}, \"yaxis2\": {\"color\": \"red\", \"dtick\": [-1.0, 0.0, 1.0], \"overlaying\": \"y\", \"range\": [-1.0, 1.0], \"side\": \"right\", \"title\": {\"text\": \"Median reaction time (s)\"}, \"type\": \"log\"}},\n",
       "                        {\"showLink\": false, \"linkText\": \"Export to plot.ly\", \"plotlyServerURL\": \"https://plot.ly\", \"responsive\": true}\n",
       "                    ).then(function(){\n",
       "                            \n",
       "var gd = document.getElementById('d9d7af1d-b33b-4b83-abe3-1eee7b94586d');\n",
       "var x = new MutationObserver(function (mutations, observer) {{\n",
       "        var display = window.getComputedStyle(gd).display;\n",
       "        if (!display || display === 'none') {{\n",
       "            console.log([gd, 'removed!']);\n",
       "            Plotly.purge(gd);\n",
       "            observer.disconnect();\n",
       "        }}\n",
       "}});\n",
       "\n",
       "// Listen for the removal of the full notebook cells\n",
       "var notebookContainer = gd.closest('#notebook-container');\n",
       "if (notebookContainer) {{\n",
       "    x.observe(notebookContainer, {childList: true});\n",
       "}}\n",
       "\n",
       "// Listen for the clearing of the current output cell\n",
       "var outputEl = gd.closest('.output');\n",
       "if (outputEl) {{\n",
       "    x.observe(outputEl, {childList: true});\n",
       "}}\n",
       "\n",
       "                        })\n",
       "                };\n",
       "                });\n",
       "            </script>\n",
       "        </div>"
      ]
     },
     "metadata": {},
     "output_type": "display_data"
    }
   ],
   "source": [
    "yrange = [0, 1.1]\n",
    "performance_easy = go.Scatter(\n",
    "    x=[t.strftime('%Y-%m-%d') for t in session_info['session_date'].tolist()],\n",
    "    y=session_info['performance_easy'].tolist(),\n",
    "    mode='markers+lines',\n",
    "    marker=dict(\n",
    "        size=6,\n",
    "        color='black',\n",
    "        line=dict(\n",
    "            color='white',\n",
    "            width=1\n",
    "        )\n",
    "    ),\n",
    "    name='performance easy',\n",
    "    yaxis='y1',\n",
    "    showlegend=False\n",
    ")\n",
    "rt = go.Scatter(\n",
    "    x=[t.strftime('%Y-%m-%d') for t in session_info['session_date'].tolist()],\n",
    "    y=session_info['median_reaction_time'].tolist(),\n",
    "    mode='markers+lines',\n",
    "    marker=dict(\n",
    "        size=6,\n",
    "        color='red',\n",
    "        line=dict(\n",
    "            color='white',\n",
    "            width=1)\n",
    "    ),\n",
    "    name='reaction time',\n",
    "    yaxis='y2',\n",
    "    showlegend=False\n",
    ")\n",
    "\n",
    "data = [performance_easy, rt]\n",
    "\n",
    "# add monday plots\n",
    "data = putils.create_monday_plot(data, yrange, d['mondays'])\n",
    "\n",
    "# add status plots\n",
    "data = putils.create_status_plot(data, yrange, status)\n",
    "    \n",
    "layout = go.Layout(\n",
    "\n",
    "    yaxis=dict(\n",
    "        title='Performance on easy trials',\n",
    "        range=yrange\n",
    "    ),\n",
    "    yaxis2=dict(\n",
    "        title='Median reaction time (s)',\n",
    "        overlaying='y',\n",
    "        color = 'red',\n",
    "        side='right',\n",
    "        type='log',\n",
    "        range=np.log10([0.1, 10]).tolist(),\n",
    "        dtick=np.log10([0.1, 1, 10]).tolist()\n",
    "        \n",
    "    ),\n",
    "    xaxis=dict(\n",
    "        title='Date',\n",
    "        showgrid=False\n",
    "    ), \n",
    "    width=700,\n",
    "    height=400,\n",
    "    title=dict(\n",
    "        text='Performance and median reaction time',\n",
    "        x=0.14,\n",
    "        y=0.85\n",
    "    ),\n",
    "    legend=dict(\n",
    "        x=1.2, \n",
    "        y=0.8,\n",
    "        orientation='v')\n",
    ")\n",
    "\n",
    "fig = go.Figure(data=data, layout=layout)\n",
    "plotly.offline.iplot(fig)"
   ]
  },
  {
   "cell_type": "code",
   "execution_count": 15,
   "metadata": {},
   "outputs": [],
   "source": [
    "f = open(\"performance_reaction_time.json\",\"w\")\n",
    "s = json.dumps(fig.to_plotly_json())\n",
    "f.write(s)\n",
    "f.close()"
   ]
  }
 ],
 "metadata": {
  "kernelspec": {
   "display_name": "Python 3",
   "language": "python",
   "name": "python3"
  },
  "language_info": {
   "codemirror_mode": {
    "name": "ipython",
    "version": 3
   },
   "file_extension": ".py",
   "mimetype": "text/x-python",
   "name": "python",
   "nbconvert_exporter": "python",
   "pygments_lexer": "ipython3",
   "version": "3.6.6"
  }
 },
 "nbformat": 4,
 "nbformat_minor": 2
}
