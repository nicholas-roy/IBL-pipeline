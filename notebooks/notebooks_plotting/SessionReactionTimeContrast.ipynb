{
 "cells": [
  {
   "cell_type": "code",
   "execution_count": 7,
   "metadata": {},
   "outputs": [
    {
     "data": {
      "text/html": [
       "        <script type=\"text/javascript\">\n",
       "        window.PlotlyConfig = {MathJaxConfig: 'local'};\n",
       "        if (window.MathJax) {MathJax.Hub.Config({SVG: {font: \"STIX-Web\"}});}\n",
       "        if (typeof require !== 'undefined') {\n",
       "        require.undef(\"plotly\");\n",
       "        requirejs.config({\n",
       "            paths: {\n",
       "                'plotly': ['https://cdn.plot.ly/plotly-latest.min']\n",
       "            }\n",
       "        });\n",
       "        require(['plotly'], function(Plotly) {\n",
       "            window._Plotly = Plotly;\n",
       "        });\n",
       "        }\n",
       "        </script>\n",
       "        "
      ]
     },
     "metadata": {},
     "output_type": "display_data"
    }
   ],
   "source": [
    "from ibl_pipeline.analyses import behavior as behavior_analyses\n",
    "from ibl_pipeline import behavior as behavior\n",
    "from ibl_pipeline import subject, acquisition\n",
    "from ibl_pipeline.utils import psychofit as psy\n",
    "import plotting_utils as putils\n",
    "from uuid import UUID\n",
    "import numpy as np\n",
    "import datetime\n",
    "import datajoint as dj\n",
    "import json\n",
    "import seaborn as sns\n",
    "import pandas as pd\n",
    "import plotly\n",
    "import plotly.graph_objs as go\n",
    "import statsmodels.stats.proportion as smp\n",
    "plotly.offline.init_notebook_mode(connected=True)"
   ]
  },
  {
   "cell_type": "code",
   "execution_count": 31,
   "metadata": {},
   "outputs": [
    {
     "name": "stderr",
     "output_type": "stream",
     "text": [
      "/usr/local/lib/python3.6/dist-packages/datajoint/connection.py:151: UserWarning:\n",
      "\n",
      "Mysql server has gone away. Reconnecting to the server.\n",
      "\n"
     ]
    },
    {
     "data": {
      "application/vnd.plotly.v1+json": {
       "config": {
        "linkText": "Export to plot.ly",
        "plotlyServerURL": "https://plot.ly",
        "responsive": true,
        "showLink": false
       },
       "data": [
        {
         "marker": {
          "color": "rgba(0.7634747047461135, 0.3348456555528834, 0.225892295531744, 1.0)",
          "size": 6
         },
         "mode": "markers+lines",
         "name": "p_left = 0.2",
         "type": "scatter",
         "uid": "1d16edef-ec5b-445c-aab0-c11fc0f3d072",
         "x": [
          -100,
          -25,
          -12.5,
          -6.25,
          0,
          6.25,
          12.5,
          25,
          100
         ],
         "y": [
          0.23060000000009495,
          0.2359999999998763,
          0.2676000000000158,
          0.33960000000001855,
          0.39765000000005557,
          0.3428000000000111,
          0.31379999999990105,
          0.27539999999999054,
          0.227800000000002
         ]
        },
        {
         "error_y": {
          "array": [
           0.0030999999999039574,
           0.006900000000143791,
           0.01059999999995398,
           0.038399999999910506,
           0.3212499999999636,
           0.01989999999995007,
           0.013600000000110413,
           0.011100000000055843,
           0.011700000000033128
          ],
          "arrayminus": [
           0.010600000000067666,
           0.0043999999998902695,
           0.011100000000027421,
           0.03849999999999909,
           0.08015000000000327,
           0.04379999999997608,
           0.02819999999974243,
           0.012499999999988631,
           0.009300000000052933
          ],
          "color": "rgba(0.7634747047461135, 0.3348456555528834, 0.225892295531744, 0.3)",
          "type": "data",
          "visible": true
         },
         "marker": {
          "size": 6
         },
         "mode": "none",
         "name": "median with 68% CI",
         "type": "scatter",
         "uid": "371ac91b-26b3-4df4-b104-587247b124b2",
         "x": [
          -100,
          -25,
          -12.5,
          -6.25,
          0,
          6.25,
          12.5,
          25,
          100
         ],
         "y": [
          0.23060000000009495,
          0.2359999999998763,
          0.2676000000000158,
          0.33960000000001855,
          0.39765000000005557,
          0.3428000000000111,
          0.31379999999990105,
          0.27539999999999054,
          0.227800000000002
         ]
        },
        {
         "marker": {
          "color": "rgba(0.24715576253545807, 0.49918708160096675, 0.5765599057376697, 1.0)",
          "size": 6
         },
         "mode": "markers+lines",
         "name": "p_left = 0.8",
         "type": "scatter",
         "uid": "8d6b63ca-56d9-408d-acba-19d51d273cfd",
         "x": [
          -100,
          -25,
          -12.5,
          -6.25,
          0,
          6.25,
          12.5,
          25,
          100
         ],
         "y": [
          0.2308500000000464,
          0.2518000000000029,
          0.3400500000000193,
          0.4973500000000115,
          0.4855999999999767,
          0.4112000000001217,
          0.30535000000000423,
          0.2825000000000273,
          0.2587500000000773
         ]
        },
        {
         "error_y": {
          "array": [
           0.005249999999890065,
           9.999999997489795e-05,
           0.060949999999934334,
           0.43474999999997976,
           0.12350000000003547,
           0.03194999999988113,
           0.008950000000027103,
           0.0029999999999290594,
           0.013799999999836388
          ],
          "arrayminus": [
           0.004950000000022214,
           0.009700000000002262,
           0.04235000000005584,
           0.1044499999999573,
           0.059700000000020736,
           0.01719999999988886,
           0.011149999999958027,
           0.008299999999962893,
           0.012700000000064549
          ],
          "color": "rgba(0.24715576253545807, 0.49918708160096675, 0.5765599057376697, 0.3)",
          "type": "data",
          "visible": true
         },
         "marker": {
          "size": 6
         },
         "mode": "none",
         "name": "median with 68% CI",
         "type": "scatter",
         "uid": "a2c188cc-df0f-4d7b-bc8d-d586af7aedcf",
         "x": [
          -100,
          -25,
          -12.5,
          -6.25,
          0,
          6.25,
          12.5,
          25,
          100
         ],
         "y": [
          0.2308500000000464,
          0.2518000000000029,
          0.3400500000000193,
          0.4973500000000115,
          0.4855999999999767,
          0.4112000000001217,
          0.30535000000000423,
          0.2825000000000273,
          0.2587500000000773
         ]
        }
       ],
       "layout": {
        "height": 350,
        "legend": {
         "orientation": "v",
         "x": 1.1,
         "y": 0.9
        },
        "title": {
         "text": "Reaction time - Contrast",
         "x": 0.25,
         "y": 0.85
        },
        "width": 630,
        "xaxis": {
         "title": {
          "text": "Contrast (%)"
         }
        },
        "yaxis": {
         "range": [
          -0.05,
          1.05
         ],
         "title": {
          "text": "Probability choosing right"
         }
        }
       }
      },
      "text/html": [
       "<div>\n",
       "        \n",
       "        \n",
       "            <div id=\"d5640425-457f-49de-b9a7-1b47dd318cf0\" class=\"plotly-graph-div\" style=\"height:350px; width:630px;\"></div>\n",
       "            <script type=\"text/javascript\">\n",
       "                require([\"plotly\"], function(Plotly) {\n",
       "                    window.PLOTLYENV=window.PLOTLYENV || {};\n",
       "                    window.PLOTLYENV.BASE_URL='https://plot.ly';\n",
       "                    \n",
       "                if (document.getElementById(\"d5640425-457f-49de-b9a7-1b47dd318cf0\")) {\n",
       "                    Plotly.newPlot(\n",
       "                        'd5640425-457f-49de-b9a7-1b47dd318cf0',\n",
       "                        [{\"marker\": {\"color\": \"rgba(0.7634747047461135, 0.3348456555528834, 0.225892295531744, 1.0)\", \"size\": 6}, \"mode\": \"markers+lines\", \"name\": \"p_left = 0.2\", \"type\": \"scatter\", \"uid\": \"558781b0-d34c-4d94-bb6d-7c88772e2c4e\", \"x\": [-100.0, -25.0, -12.5, -6.25, 0.0, 6.25, 12.5, 25.0, 100.0], \"y\": [0.23060000000009495, 0.2359999999998763, 0.2676000000000158, 0.33960000000001855, 0.39765000000005557, 0.3428000000000111, 0.31379999999990105, 0.27539999999999054, 0.227800000000002]}, {\"error_y\": {\"array\": [0.0030999999999039574, 0.006900000000143791, 0.01059999999995398, 0.038399999999910506, 0.3212499999999636, 0.01989999999995007, 0.013600000000110413, 0.011100000000055843, 0.011700000000033128], \"arrayminus\": [0.010600000000067666, 0.0043999999998902695, 0.011100000000027421, 0.03849999999999909, 0.08015000000000327, 0.04379999999997608, 0.02819999999974243, 0.012499999999988631, 0.009300000000052933], \"color\": \"rgba(0.7634747047461135, 0.3348456555528834, 0.225892295531744, 0.3)\", \"type\": \"data\", \"visible\": true}, \"marker\": {\"size\": 6}, \"mode\": \"none\", \"name\": \"median with 68% CI\", \"type\": \"scatter\", \"uid\": \"eb9f7170-fc94-4990-9f12-6b9caf284289\", \"x\": [-100.0, -25.0, -12.5, -6.25, 0.0, 6.25, 12.5, 25.0, 100.0], \"y\": [0.23060000000009495, 0.2359999999998763, 0.2676000000000158, 0.33960000000001855, 0.39765000000005557, 0.3428000000000111, 0.31379999999990105, 0.27539999999999054, 0.227800000000002]}, {\"marker\": {\"color\": \"rgba(0.24715576253545807, 0.49918708160096675, 0.5765599057376697, 1.0)\", \"size\": 6}, \"mode\": \"markers+lines\", \"name\": \"p_left = 0.8\", \"type\": \"scatter\", \"uid\": \"e969ba62-6426-4b7d-991f-d0ccf4c43eda\", \"x\": [-100.0, -25.0, -12.5, -6.25, 0.0, 6.25, 12.5, 25.0, 100.0], \"y\": [0.2308500000000464, 0.2518000000000029, 0.3400500000000193, 0.4973500000000115, 0.4855999999999767, 0.4112000000001217, 0.30535000000000423, 0.2825000000000273, 0.2587500000000773]}, {\"error_y\": {\"array\": [0.005249999999890065, 9.999999997489795e-05, 0.060949999999934334, 0.43474999999997976, 0.12350000000003547, 0.03194999999988113, 0.008950000000027103, 0.0029999999999290594, 0.013799999999836388], \"arrayminus\": [0.004950000000022214, 0.009700000000002262, 0.04235000000005584, 0.1044499999999573, 0.059700000000020736, 0.01719999999988886, 0.011149999999958027, 0.008299999999962893, 0.012700000000064549], \"color\": \"rgba(0.24715576253545807, 0.49918708160096675, 0.5765599057376697, 0.3)\", \"type\": \"data\", \"visible\": true}, \"marker\": {\"size\": 6}, \"mode\": \"none\", \"name\": \"median with 68% CI\", \"type\": \"scatter\", \"uid\": \"8a969a32-d881-46a2-bcf3-55bcffeb693b\", \"x\": [-100.0, -25.0, -12.5, -6.25, 0.0, 6.25, 12.5, 25.0, 100.0], \"y\": [0.2308500000000464, 0.2518000000000029, 0.3400500000000193, 0.4973500000000115, 0.4855999999999767, 0.4112000000001217, 0.30535000000000423, 0.2825000000000273, 0.2587500000000773]}],\n",
       "                        {\"height\": 350, \"legend\": {\"orientation\": \"v\", \"x\": 1.1, \"y\": 0.9}, \"title\": {\"text\": \"Reaction time - Contrast\", \"x\": 0.25, \"y\": 0.85}, \"width\": 630, \"xaxis\": {\"title\": {\"text\": \"Contrast (%)\"}}, \"yaxis\": {\"range\": [-0.05, 1.05], \"title\": {\"text\": \"Probability choosing right\"}}},\n",
       "                        {\"showLink\": false, \"linkText\": \"Export to plot.ly\", \"plotlyServerURL\": \"https://plot.ly\", \"responsive\": true}\n",
       "                    ).then(function(){\n",
       "                            \n",
       "var gd = document.getElementById('d5640425-457f-49de-b9a7-1b47dd318cf0');\n",
       "var x = new MutationObserver(function (mutations, observer) {{\n",
       "        var display = window.getComputedStyle(gd).display;\n",
       "        if (!display || display === 'none') {{\n",
       "            console.log([gd, 'removed!']);\n",
       "            Plotly.purge(gd);\n",
       "            observer.disconnect();\n",
       "        }}\n",
       "}});\n",
       "\n",
       "// Listen for the removal of the full notebook cells\n",
       "var notebookContainer = gd.closest('#notebook-container');\n",
       "if (notebookContainer) {{\n",
       "    x.observe(notebookContainer, {childList: true});\n",
       "}}\n",
       "\n",
       "// Listen for the clearing of the current output cell\n",
       "var outputEl = gd.closest('.output');\n",
       "if (outputEl) {{\n",
       "    x.observe(outputEl, {childList: true});\n",
       "}}\n",
       "\n",
       "                        })\n",
       "                };\n",
       "                });\n",
       "            </script>\n",
       "        </div>"
      ]
     },
     "metadata": {},
     "output_type": "display_data"
    }
   ],
   "source": [
    "subj_uuid = (subject.Subject & 'subject_nickname=\"IBL_13\"').fetch1('subject_uuid')\n",
    "key = {'subject_uuid': subj_uuid,\n",
    "   'session_start_time': datetime.datetime(2019, 3, 22, 13, 1, 28)}\n",
    "sessions = behavior_analyses.PsychResultsBlock * behavior_analyses.ReactionTimeContrastBlock & key\n",
    "\n",
    "data = []\n",
    "\n",
    "for session in sessions.fetch('KEY'):\n",
    "    contrasts, prob_left, reaction_time, ci_low, ci_high = \\\n",
    "        (sessions & session).fetch1(\n",
    "            'signed_contrasts', 'prob_left', 'reaction_time_contrast', \n",
    "            'reaction_time_ci_low', 'reaction_time_ci_high')\n",
    "    error_low = reaction_time - ci_low\n",
    "    error_high = ci_high - reaction_time\n",
    "    \n",
    "    contrasts = contrasts * 100\n",
    "    \n",
    "    curve_color, error_color = putils.get_color(prob_left, 0.3)\n",
    "\n",
    "    rt_data = go.Scatter(\n",
    "        x=contrasts.tolist(),\n",
    "        y=reaction_time.tolist(),\n",
    "        marker=dict(\n",
    "            size=6,\n",
    "            color=curve_color),\n",
    "        mode='markers+lines',\n",
    "        name=f'p_left = {prob_left}'\n",
    "    )\n",
    "    \n",
    "    rt_errorbar = go.Scatter(\n",
    "        x=contrasts.tolist(),\n",
    "        y=reaction_time.tolist(),\n",
    "        error_y=dict(\n",
    "            type='data',\n",
    "            array=error_high.tolist(),\n",
    "            arrayminus=error_low.tolist(),\n",
    "            color=error_color,\n",
    "            visible=True\n",
    "        ),\n",
    "        marker=dict(\n",
    "            size=6),\n",
    "        mode='none',\n",
    "        name='median with 68% CI',\n",
    "    )\n",
    "\n",
    "    data.append(rt_data)\n",
    "    data.append(rt_errorbar)\n",
    "\n",
    "layout = go.Layout(\n",
    "    width=630,\n",
    "    height=350,\n",
    "    title=dict(\n",
    "        text='Reaction time - Contrast',\n",
    "        x=0.25,\n",
    "        y=0.85\n",
    "    ),\n",
    "    xaxis=dict(\n",
    "        title='Contrast (%)'), \n",
    "    yaxis=dict(\n",
    "        title='Probability choosing right',\n",
    "        range=[-0.05, 1.05]),\n",
    "    legend=dict(\n",
    "        x=1.1, \n",
    "        y=0.9,\n",
    "        orientation='v'),\n",
    ")\n",
    "\n",
    "\n",
    "fig = go.Figure(data=data, layout=layout)\n",
    "plotly.offline.iplot(fig)"
   ]
  },
  {
   "cell_type": "code",
   "execution_count": 25,
   "metadata": {},
   "outputs": [],
   "source": [
    "f = open(\"session_reaction_time_contrast.json\",\"w\")\n",
    "s = json.dumps(fig.to_plotly_json())\n",
    "f.write(s)\n",
    "f.close()"
   ]
  },
  {
   "cell_type": "code",
   "execution_count": null,
   "metadata": {},
   "outputs": [],
   "source": []
  }
 ],
 "metadata": {
  "kernelspec": {
   "display_name": "Python 3",
   "language": "python",
   "name": "python3"
  },
  "language_info": {
   "codemirror_mode": {
    "name": "ipython",
    "version": 3
   },
   "file_extension": ".py",
   "mimetype": "text/x-python",
   "name": "python",
   "nbconvert_exporter": "python",
   "pygments_lexer": "ipython3",
   "version": "3.6.6"
  }
 },
 "nbformat": 4,
 "nbformat_minor": 2
}
